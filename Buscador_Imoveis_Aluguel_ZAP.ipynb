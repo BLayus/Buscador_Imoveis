{
  "nbformat": 4,
  "nbformat_minor": 0,
  "metadata": {
    "colab": {
      "provenance": [],
      "collapsed_sections": [
        "tZFHGCy8iHVf",
        "RdARoDQuvqk_",
        "r1YGzPG32Wyr",
        "gcH6tsuKVb-S",
        "o65wX7ZAU_s8",
        "hj-iwG6zU5FF"
      ],
      "authorship_tag": "ABX9TyM4MeUtiIC4iwEWYU7vk1J9",
      "include_colab_link": true
    },
    "kernelspec": {
      "name": "python3",
      "display_name": "Python 3"
    },
    "language_info": {
      "name": "python"
    }
  },
  "cells": [
    {
      "cell_type": "markdown",
      "metadata": {
        "id": "view-in-github",
        "colab_type": "text"
      },
      "source": [
        "<a href=\"https://colab.research.google.com/github/BLayus/Buscador_Imoveis/blob/main/Buscador_Imoveis_Aluguel_ZAP.ipynb\" target=\"_parent\"><img src=\"https://colab.research.google.com/assets/colab-badge.svg\" alt=\"Open In Colab\"/></a>"
      ]
    },
    {
      "cell_type": "code",
      "source": [
        "!pip install webdriver-manager\n",
        "!pip install selenium\n",
        "!apt-get update\n",
        "!apt install chromium-chromedriver"
      ],
      "metadata": {
        "colab": {
          "base_uri": "https://localhost:8080/"
        },
        "id": "xAyZ3Qqjzi1y",
        "outputId": "95a7a5c3-7cf9-4fca-f58f-216c82a7dfc1"
      },
      "execution_count": 1,
      "outputs": [
        {
          "output_type": "stream",
          "name": "stdout",
          "text": [
            "Collecting webdriver-manager\n",
            "  Downloading webdriver_manager-4.0.0-py2.py3-none-any.whl (27 kB)\n",
            "Requirement already satisfied: requests in /usr/local/lib/python3.10/dist-packages (from webdriver-manager) (2.27.1)\n",
            "Collecting python-dotenv (from webdriver-manager)\n",
            "  Downloading python_dotenv-1.0.0-py3-none-any.whl (19 kB)\n",
            "Requirement already satisfied: packaging in /usr/local/lib/python3.10/dist-packages (from webdriver-manager) (23.1)\n",
            "Requirement already satisfied: urllib3<1.27,>=1.21.1 in /usr/local/lib/python3.10/dist-packages (from requests->webdriver-manager) (1.26.16)\n",
            "Requirement already satisfied: certifi>=2017.4.17 in /usr/local/lib/python3.10/dist-packages (from requests->webdriver-manager) (2023.7.22)\n",
            "Requirement already satisfied: charset-normalizer~=2.0.0 in /usr/local/lib/python3.10/dist-packages (from requests->webdriver-manager) (2.0.12)\n",
            "Requirement already satisfied: idna<4,>=2.5 in /usr/local/lib/python3.10/dist-packages (from requests->webdriver-manager) (3.4)\n",
            "Installing collected packages: python-dotenv, webdriver-manager\n",
            "Successfully installed python-dotenv-1.0.0 webdriver-manager-4.0.0\n",
            "Collecting selenium\n",
            "  Downloading selenium-4.11.2-py3-none-any.whl (7.2 MB)\n",
            "\u001b[2K     \u001b[90m━━━━━━━━━━━━━━━━━━━━━━━━━━━━━━━━━━━━━━━━\u001b[0m \u001b[32m7.2/7.2 MB\u001b[0m \u001b[31m14.7 MB/s\u001b[0m eta \u001b[36m0:00:00\u001b[0m\n",
            "\u001b[?25hRequirement already satisfied: urllib3[socks]<3,>=1.26 in /usr/local/lib/python3.10/dist-packages (from selenium) (1.26.16)\n",
            "Collecting trio~=0.17 (from selenium)\n",
            "  Downloading trio-0.22.2-py3-none-any.whl (400 kB)\n",
            "\u001b[2K     \u001b[90m━━━━━━━━━━━━━━━━━━━━━━━━━━━━━━━━━━━━━━\u001b[0m \u001b[32m400.2/400.2 kB\u001b[0m \u001b[31m26.9 MB/s\u001b[0m eta \u001b[36m0:00:00\u001b[0m\n",
            "\u001b[?25hCollecting trio-websocket~=0.9 (from selenium)\n",
            "  Downloading trio_websocket-0.10.3-py3-none-any.whl (17 kB)\n",
            "Requirement already satisfied: certifi>=2021.10.8 in /usr/local/lib/python3.10/dist-packages (from selenium) (2023.7.22)\n",
            "Requirement already satisfied: attrs>=20.1.0 in /usr/local/lib/python3.10/dist-packages (from trio~=0.17->selenium) (23.1.0)\n",
            "Requirement already satisfied: sortedcontainers in /usr/local/lib/python3.10/dist-packages (from trio~=0.17->selenium) (2.4.0)\n",
            "Requirement already satisfied: idna in /usr/local/lib/python3.10/dist-packages (from trio~=0.17->selenium) (3.4)\n",
            "Collecting outcome (from trio~=0.17->selenium)\n",
            "  Downloading outcome-1.2.0-py2.py3-none-any.whl (9.7 kB)\n",
            "Requirement already satisfied: sniffio in /usr/local/lib/python3.10/dist-packages (from trio~=0.17->selenium) (1.3.0)\n",
            "Requirement already satisfied: exceptiongroup>=1.0.0rc9 in /usr/local/lib/python3.10/dist-packages (from trio~=0.17->selenium) (1.1.2)\n",
            "Collecting wsproto>=0.14 (from trio-websocket~=0.9->selenium)\n",
            "  Downloading wsproto-1.2.0-py3-none-any.whl (24 kB)\n",
            "Requirement already satisfied: PySocks!=1.5.7,<2.0,>=1.5.6 in /usr/local/lib/python3.10/dist-packages (from urllib3[socks]<3,>=1.26->selenium) (1.7.1)\n",
            "Collecting h11<1,>=0.9.0 (from wsproto>=0.14->trio-websocket~=0.9->selenium)\n",
            "  Downloading h11-0.14.0-py3-none-any.whl (58 kB)\n",
            "\u001b[2K     \u001b[90m━━━━━━━━━━━━━━━━━━━━━━━━━━━━━━━━━━━━━━━━\u001b[0m \u001b[32m58.3/58.3 kB\u001b[0m \u001b[31m6.1 MB/s\u001b[0m eta \u001b[36m0:00:00\u001b[0m\n",
            "\u001b[?25hInstalling collected packages: outcome, h11, wsproto, trio, trio-websocket, selenium\n",
            "Successfully installed h11-0.14.0 outcome-1.2.0 selenium-4.11.2 trio-0.22.2 trio-websocket-0.10.3 wsproto-1.2.0\n",
            "Get:1 http://security.ubuntu.com/ubuntu jammy-security InRelease [110 kB]\n",
            "Get:2 https://cloud.r-project.org/bin/linux/ubuntu jammy-cran40/ InRelease [3,626 B]\n",
            "Get:3 https://developer.download.nvidia.com/compute/cuda/repos/ubuntu2204/x86_64  InRelease [1,581 B]\n",
            "Hit:4 http://archive.ubuntu.com/ubuntu jammy InRelease\n",
            "Get:5 https://cloud.r-project.org/bin/linux/ubuntu jammy-cran40/ Packages [43.3 kB]\n",
            "Get:6 http://archive.ubuntu.com/ubuntu jammy-updates InRelease [119 kB]\n",
            "Get:7 https://developer.download.nvidia.com/compute/cuda/repos/ubuntu2204/x86_64  Packages [456 kB]\n",
            "Hit:8 https://ppa.launchpadcontent.net/c2d4u.team/c2d4u4.0+/ubuntu jammy InRelease\n",
            "Get:9 http://security.ubuntu.com/ubuntu jammy-security/universe amd64 Packages [979 kB]\n",
            "Get:10 http://security.ubuntu.com/ubuntu jammy-security/main amd64 Packages [833 kB]\n",
            "Get:11 http://archive.ubuntu.com/ubuntu jammy-backports InRelease [109 kB]\n",
            "Get:12 https://ppa.launchpadcontent.net/deadsnakes/ppa/ubuntu jammy InRelease [18.1 kB]\n",
            "Get:13 http://archive.ubuntu.com/ubuntu jammy-updates/main amd64 Packages [1,103 kB]\n",
            "Get:14 http://archive.ubuntu.com/ubuntu jammy-updates/universe amd64 Packages [1,235 kB]\n",
            "Hit:15 https://ppa.launchpadcontent.net/graphics-drivers/ppa/ubuntu jammy InRelease\n",
            "Get:16 http://archive.ubuntu.com/ubuntu jammy-backports/universe amd64 Packages [25.6 kB]\n",
            "Get:17 http://archive.ubuntu.com/ubuntu jammy-backports/main amd64 Packages [49.2 kB]\n",
            "Hit:18 https://ppa.launchpadcontent.net/ubuntugis/ppa/ubuntu jammy InRelease\n",
            "Get:19 https://ppa.launchpadcontent.net/deadsnakes/ppa/ubuntu jammy/main amd64 Packages [21.7 kB]\n",
            "Fetched 5,107 kB in 3s (1,896 kB/s)\n",
            "Reading package lists... Done\n",
            "Reading package lists... Done\n",
            "Building dependency tree... Done\n",
            "Reading state information... Done\n",
            "The following additional packages will be installed:\n",
            "  apparmor chromium-browser libfuse3-3 liblzo2-2 snapd squashfs-tools\n",
            "  systemd-hwe-hwdb udev\n",
            "Suggested packages:\n",
            "  apparmor-profiles-extra apparmor-utils fuse3 zenity | kdialog\n",
            "The following NEW packages will be installed:\n",
            "  apparmor chromium-browser chromium-chromedriver libfuse3-3 liblzo2-2 snapd\n",
            "  squashfs-tools systemd-hwe-hwdb udev\n",
            "0 upgraded, 9 newly installed, 0 to remove and 30 not upgraded.\n",
            "Need to get 26.3 MB of archives.\n",
            "After this operation, 116 MB of additional disk space will be used.\n",
            "Get:1 http://archive.ubuntu.com/ubuntu jammy-updates/main amd64 apparmor amd64 3.0.4-2ubuntu2.2 [595 kB]\n",
            "Get:2 http://archive.ubuntu.com/ubuntu jammy/main amd64 liblzo2-2 amd64 2.10-2build3 [53.7 kB]\n",
            "Get:3 http://archive.ubuntu.com/ubuntu jammy/main amd64 squashfs-tools amd64 1:4.5-3build1 [159 kB]\n",
            "Get:4 http://archive.ubuntu.com/ubuntu jammy-updates/main amd64 udev amd64 249.11-0ubuntu3.9 [1,557 kB]\n",
            "Get:5 http://archive.ubuntu.com/ubuntu jammy/main amd64 libfuse3-3 amd64 3.10.5-1build1 [81.2 kB]\n",
            "Get:6 http://archive.ubuntu.com/ubuntu jammy-updates/main amd64 snapd amd64 2.58+22.04.1 [23.8 MB]\n",
            "Get:7 http://archive.ubuntu.com/ubuntu jammy-updates/universe amd64 chromium-browser amd64 1:85.0.4183.83-0ubuntu2.22.04.1 [49.2 kB]\n",
            "Get:8 http://archive.ubuntu.com/ubuntu jammy-updates/universe amd64 chromium-chromedriver amd64 1:85.0.4183.83-0ubuntu2.22.04.1 [2,308 B]\n",
            "Get:9 http://archive.ubuntu.com/ubuntu jammy-updates/main amd64 systemd-hwe-hwdb all 249.11.3 [2,908 B]\n",
            "Fetched 26.3 MB in 2s (12.0 MB/s)\n",
            "Preconfiguring packages ...\n",
            "Selecting previously unselected package apparmor.\n",
            "(Reading database ... 120500 files and directories currently installed.)\n",
            "Preparing to unpack .../0-apparmor_3.0.4-2ubuntu2.2_amd64.deb ...\n",
            "Unpacking apparmor (3.0.4-2ubuntu2.2) ...\n",
            "Selecting previously unselected package liblzo2-2:amd64.\n",
            "Preparing to unpack .../1-liblzo2-2_2.10-2build3_amd64.deb ...\n",
            "Unpacking liblzo2-2:amd64 (2.10-2build3) ...\n",
            "Selecting previously unselected package squashfs-tools.\n",
            "Preparing to unpack .../2-squashfs-tools_1%3a4.5-3build1_amd64.deb ...\n",
            "Unpacking squashfs-tools (1:4.5-3build1) ...\n",
            "Selecting previously unselected package udev.\n",
            "Preparing to unpack .../3-udev_249.11-0ubuntu3.9_amd64.deb ...\n",
            "Unpacking udev (249.11-0ubuntu3.9) ...\n",
            "Selecting previously unselected package libfuse3-3:amd64.\n",
            "Preparing to unpack .../4-libfuse3-3_3.10.5-1build1_amd64.deb ...\n",
            "Unpacking libfuse3-3:amd64 (3.10.5-1build1) ...\n",
            "Selecting previously unselected package snapd.\n",
            "Preparing to unpack .../5-snapd_2.58+22.04.1_amd64.deb ...\n",
            "Unpacking snapd (2.58+22.04.1) ...\n",
            "Setting up apparmor (3.0.4-2ubuntu2.2) ...\n",
            "Created symlink /etc/systemd/system/sysinit.target.wants/apparmor.service → /lib/systemd/system/apparmor.service.\n",
            "Setting up liblzo2-2:amd64 (2.10-2build3) ...\n",
            "Setting up squashfs-tools (1:4.5-3build1) ...\n",
            "Setting up udev (249.11-0ubuntu3.9) ...\n",
            "invoke-rc.d: could not determine current runlevel\n",
            "invoke-rc.d: policy-rc.d denied execution of start.\n",
            "Setting up libfuse3-3:amd64 (3.10.5-1build1) ...\n",
            "Setting up snapd (2.58+22.04.1) ...\n",
            "Created symlink /etc/systemd/system/multi-user.target.wants/snapd.aa-prompt-listener.service → /lib/systemd/system/snapd.aa-prompt-listener.service.\n",
            "Created symlink /etc/systemd/system/multi-user.target.wants/snapd.apparmor.service → /lib/systemd/system/snapd.apparmor.service.\n",
            "Created symlink /etc/systemd/system/multi-user.target.wants/snapd.autoimport.service → /lib/systemd/system/snapd.autoimport.service.\n",
            "Created symlink /etc/systemd/system/multi-user.target.wants/snapd.core-fixup.service → /lib/systemd/system/snapd.core-fixup.service.\n",
            "Created symlink /etc/systemd/system/multi-user.target.wants/snapd.recovery-chooser-trigger.service → /lib/systemd/system/snapd.recovery-chooser-trigger.service.\n",
            "Created symlink /etc/systemd/system/multi-user.target.wants/snapd.seeded.service → /lib/systemd/system/snapd.seeded.service.\n",
            "Created symlink /etc/systemd/system/cloud-final.service.wants/snapd.seeded.service → /lib/systemd/system/snapd.seeded.service.\n",
            "Unit /lib/systemd/system/snapd.seeded.service is added as a dependency to a non-existent unit cloud-final.service.\n",
            "Created symlink /etc/systemd/system/multi-user.target.wants/snapd.service → /lib/systemd/system/snapd.service.\n",
            "Created symlink /etc/systemd/system/timers.target.wants/snapd.snap-repair.timer → /lib/systemd/system/snapd.snap-repair.timer.\n",
            "Created symlink /etc/systemd/system/sockets.target.wants/snapd.socket → /lib/systemd/system/snapd.socket.\n",
            "Created symlink /etc/systemd/system/final.target.wants/snapd.system-shutdown.service → /lib/systemd/system/snapd.system-shutdown.service.\n",
            "Selecting previously unselected package chromium-browser.\n",
            "(Reading database ... 120940 files and directories currently installed.)\n",
            "Preparing to unpack .../chromium-browser_1%3a85.0.4183.83-0ubuntu2.22.04.1_amd64.deb ...\n",
            "=> Installing the chromium snap\n",
            "==> Checking connectivity with the snap store\n",
            "===> System doesn't have a working snapd, skipping\n",
            "Unpacking chromium-browser (1:85.0.4183.83-0ubuntu2.22.04.1) ...\n",
            "Selecting previously unselected package chromium-chromedriver.\n",
            "Preparing to unpack .../chromium-chromedriver_1%3a85.0.4183.83-0ubuntu2.22.04.1_amd64.deb ...\n",
            "Unpacking chromium-chromedriver (1:85.0.4183.83-0ubuntu2.22.04.1) ...\n",
            "Selecting previously unselected package systemd-hwe-hwdb.\n",
            "Preparing to unpack .../systemd-hwe-hwdb_249.11.3_all.deb ...\n",
            "Unpacking systemd-hwe-hwdb (249.11.3) ...\n",
            "Setting up systemd-hwe-hwdb (249.11.3) ...\n",
            "Setting up chromium-browser (1:85.0.4183.83-0ubuntu2.22.04.1) ...\n",
            "update-alternatives: using /usr/bin/chromium-browser to provide /usr/bin/x-www-browser (x-www-browser) in auto mode\n",
            "update-alternatives: using /usr/bin/chromium-browser to provide /usr/bin/gnome-www-browser (gnome-www-browser) in auto mode\n",
            "Setting up chromium-chromedriver (1:85.0.4183.83-0ubuntu2.22.04.1) ...\n",
            "Processing triggers for udev (249.11-0ubuntu3.9) ...\n",
            "Processing triggers for hicolor-icon-theme (0.17-2) ...\n",
            "Processing triggers for libc-bin (2.35-0ubuntu3.1) ...\n",
            "Processing triggers for man-db (2.10.2-1) ...\n",
            "Processing triggers for dbus (1.12.20-2ubuntu4.1) ...\n"
          ]
        }
      ]
    },
    {
      "cell_type": "code",
      "execution_count": 2,
      "metadata": {
        "id": "mqfOrepts8SS"
      },
      "outputs": [],
      "source": [
        "import selenium\n",
        "from selenium import webdriver\n",
        "from selenium.webdriver.chrome.service import Service\n",
        "from webdriver_manager.chrome import ChromeDriverManager\n",
        "from selenium.webdriver.common.by import By\n",
        "\n",
        "from bs4 import BeautifulSoup\n",
        "import urllib3.request\n",
        "import requests\n",
        "\n",
        "from tqdm.notebook import tqdm\n",
        "\n",
        "import pandas as pd\n",
        "import matplotlib.pyplot as plt\n",
        "import seaborn as sns"
      ]
    },
    {
      "cell_type": "code",
      "source": [
        "#Verificação do driver: se está funcionando retorna o html da página da folha de SP\n",
        "\n",
        "chrome_options = webdriver.ChromeOptions()\n",
        "chrome_options.add_argument('--headless')\n",
        "chrome_options.add_argument('--no-sandbox')\n",
        "chrome_options.add_argument('--disable-dev-shm-usage')\n",
        "\n",
        "driver = webdriver.Chrome(options= chrome_options)\n",
        "driver.get('https://www.folha.uol.com.br/')\n",
        "\n",
        "print(driver.page_source)\n",
        "\n",
        "driver.close()"
      ],
      "metadata": {
        "id": "0ZfCqlxAAs4Y"
      },
      "execution_count": null,
      "outputs": []
    },
    {
      "cell_type": "markdown",
      "source": [
        "###Testando Site e Estratégias de Localização das Informações"
      ],
      "metadata": {
        "id": "2PDw4lcsuOW3"
      }
    },
    {
      "cell_type": "code",
      "source": [
        "# Número página testando os elementos para usar no scrape\n",
        "pagina = 1\n",
        "\n",
        "# Teste driver\n",
        "url = f'https://www.zapimoveis.com.br/aluguel/imoveis/rj+rio-de-janeiro+zona-sul+botafogo/?transacao=aluguel&onde=,Rio%20de%20Janeiro,Rio%20de%20Janeiro,Zona%20Sul,Botafogo,,,neighborhood,BR%3ERio%20de%20Janeiro%3ENULL%3ERio%20de%20Janeiro%3EZona%20Sul%3EBotafogo,-22.951193,-43.180784,&pagina={pagina}&quartos=3,4'\n",
        "\n",
        "# Faz requisição e resposta à página\n",
        "driver = webdriver.Chrome(options= chrome_options)\n",
        "driver.get(url)\n",
        "\n",
        "# Printa o html da pagina toda\n",
        "#print(driver.page_source)\n",
        "\n",
        "# Acessa os anuncios atraves do nome da Classe html\n",
        "resultados = driver.find_elements(By.CLASS_NAME, 'listing-wrapper__content')\n",
        "\n",
        "# Imprime o tamanho da lista resultado\n",
        "print(f'A lista possui: {len(resultados)} itens')"
      ],
      "metadata": {
        "id": "wdLEHrfen-O3",
        "colab": {
          "base_uri": "https://localhost:8080/"
        },
        "outputId": "221bf732-e1fc-41d3-c7fb-3d62cc6f7234"
      },
      "execution_count": 4,
      "outputs": [
        {
          "output_type": "stream",
          "name": "stdout",
          "text": [
            "A lista possui: 1 itens\n"
          ]
        }
      ]
    },
    {
      "cell_type": "code",
      "source": [
        "driver.page_source"
      ],
      "metadata": {
        "id": "Md0XTMQGq5z6"
      },
      "execution_count": null,
      "outputs": []
    },
    {
      "cell_type": "code",
      "source": [
        "teste = driver.find_elements(By.CLASS_NAME, 'card__location')\n",
        "\n",
        "print(f'A lista possui: {len(teste)} itens')"
      ],
      "metadata": {
        "colab": {
          "base_uri": "https://localhost:8080/"
        },
        "id": "eJkv7aQnooqJ",
        "outputId": "a81e7454-37f2-4b80-d9cb-7529eac4e25f"
      },
      "execution_count": 13,
      "outputs": [
        {
          "output_type": "stream",
          "name": "stdout",
          "text": [
            "A lista possui: 15 itens\n"
          ]
        }
      ]
    },
    {
      "cell_type": "code",
      "source": [
        "oferta = driver.find_elements(By.CLASS_NAME, 'card__location')\n",
        "\n",
        "for o in oferta:\n",
        "  o.find_element(By.CLASS_NAME, 'card__address')\n",
        "  o.find_element(By.CLASS_NAME, 'card__street')\n",
        "\n",
        "  print(o.text)"
      ],
      "metadata": {
        "colab": {
          "base_uri": "https://localhost:8080/"
        },
        "id": "puWh3nyVtjvz",
        "outputId": "d5e145f3-5f88-4c81-aeae-2d6c56578a24"
      },
      "execution_count": 21,
      "outputs": [
        {
          "output_type": "stream",
          "name": "stdout",
          "text": [
            "Botafogo, Rio de Janeiro\n",
            "Praia Botafogo\n",
            "Botafogo, Rio de Janeiro\n",
            "Rua da Passagem\n",
            "Botafogo, Rio de Janeiro\n",
            "Rua Muniz Barreto\n",
            "Botafogo, Rio de Janeiro\n",
            "Rua Voluntários da Pátria\n",
            "Botafogo, Rio de Janeiro\n",
            "Rua da Passagem\n",
            "Botafogo, Rio de Janeiro\n",
            "Rua Real Grandeza\n",
            "Botafogo, Rio de Janeiro\n",
            "Rua Marquês de Olinda\n",
            "Botafogo, Rio de Janeiro\n",
            "Rua Visconde de Ouro Preto\n",
            "Botafogo, Rio de Janeiro\n",
            "Praia Botafogo\n",
            "Botafogo, Rio de Janeiro\n",
            "Rua da Matriz\n",
            "Botafogo, Rio de Janeiro\n",
            "Rua Bambina\n",
            "Botafogo, Rio de Janeiro\n",
            "Rua Ministro Raul Fernandes\n",
            "Botafogo, Rio de Janeiro\n",
            "Rua Bambina\n",
            "Botafogo, Rio de Janeiro\n",
            "Rua Fernandes Guimarães\n",
            "Botafogo, Rio de Janeiro\n",
            "Rua Bartolomeu Portela\n"
          ]
        }
      ]
    },
    {
      "cell_type": "code",
      "source": [
        "descri = driver.find_elements(By.CLASS_NAME, 'card__description')\n",
        "\n",
        "for o in descri:\n",
        "  print(o.text)"
      ],
      "metadata": {
        "colab": {
          "base_uri": "https://localhost:8080/"
        },
        "id": "FD9lR-C1vLVN",
        "outputId": "f78dae7a-c933-416a-82c8-429f887308dc"
      },
      "execution_count": 34,
      "outputs": [
        {
          "output_type": "stream",
          "name": "stdout",
          "text": [
            "PRAIA DE BOTAFOGO! MARAVILHOSO APTO. 5 QUARTOS, 4 SUÍTES, ESCRITÓRIO, AR CONDICIONADO CENTRAL, COM VISTA PANORÂMICA TOTAL DOS MAIS DIVERSOS PONTOS DA CIDADE (19o ANDAR)! UM POR ANDAR! ! SALA EM 3 AMBIENTES, COM LAREIRA, PISO EM MÁRMORE, SAUNA, CLOSET, AREJADO E CLARO, COZINHA ESPAÇOSA COM BANCADA GOURMET, SUPER VENTILADA,ÁREA DE SERVIÇO! BANHEIROS E COZINHA TÊM PISO DE MÁRMORE! PORTARIA 24 HORAS! 2 VAGAS DE GARAGEM, ESTACIONAMENTO PARA VISITANTES E SEGURANÇA ARMADA 24 Hs!! -Cod:CPAP50043 -Rev.05Ago\n",
            "Orla Rio imóveis, aluga um aconchegante apartamento no Condomínio do Edifício Residencial Helena, com 2 vagas de garagem e 1 para visitantes, composto de sala em dois ambientes, varanda com vista para o Cristo , 4 quartos com armários e ar condicionado, sendo 1 suíte, e 1 com sacada, 1 banheiro social com armário, corredor, piso frio em ótimo estado, cozinha com armários planejados e área de serviço acoplada, dependência com armários. Imóvel bem equipado, ideal para quem procura conforto, comodidade e com opção para trabalho home office. O condomínio é bem estruturado, com academia, piscina, play, churrasqueira, quadra esportiva, circuito de segurança, salão de festas, sauna, spa, brinquedoteca, sala de cinema, apropriado para quem busca lazer sem sair de casa. Próximo ao Shopping Rio Sul, Morro do Pasmado, a poucos minutos do Pão de Açucar. Os valores das taxas podem ser alterados. O valor do IPTU é referente à parcela. Orla Rio, a sua imobiliária especialista em imóveis na zona sul, desde 2002 no mercado imobiliário. Apartamentos, conjugados e coberturas nos bairros: Leme, Ipanema, Leblon, Copacabana, Gávea, Botafogo, Laranjeiras, Catete, Lagoa, Humaitá, Flamengo e outros. Faremos o possível para ajudar a realizar o seu sonho. Visite o nosso site www.orlarioimoveis.com.br. -Cod:OLAP40069 -Rev.05Ago\n",
            "Otimo apartamento em Botafogo, mobiliado, frente , com varandão, 02 salas, 03 quartos, (sendo 01 suíte), cozinha (com armários , e eletro domésticos), 02 banheiros, área de serviço, silencioso, portaria 24h, facilidade de transportes (metrô e ônibus), comercio, shopping Botafogo lazer, Praia de Botafogo, pronto para morar.\n",
            "Irigon aluga excelente apartamento com 3 quartos, cômodos grandes, ventilados, sala em L, cozinha espaçosa , área de serviço e dependência completa. Excelente localização, próximo ao comércio e condução. contato 2522.0042 / 98984.8533\n",
            "A Unidade Administração de Imóveis aluga excelente apartamento em prédio com infra estrutura total composto de varanda, sala em 2 ambientes, 3 quartos sendo 1 suíte com armários, banheiro social, cozinha, dependências de empregada e 1 vaga. CJ474\n",
            "Apartamento para Aluguel - Botafogo, 3 Quartos, 80 m2. Sobre o imóvel: Valores: - Aluguel: R$ 10000 - Condomínio: R$ 1000 - IPTU: R$ 272 Que tal agendar uma visita? Entre em contato pelo formulário. Você receberá uma mensagem por e-mail e WhatsApp com os próximos passos. Seu imóvel sem burocracia O QuintoAndar revolucionou o jeito de alugar e comprar imóveis: rápido, fácil, online, sem fiador e o melhor, sem burocracia. Conheça esse e outros imóveis no site do QuintoAndar. CRECI-RJ J7575\n",
            "BOTAFOGO R$ 2.900,00 + Taxas, Rua Marques de Olinda Nº 61, ótima localização, sol da manhã, condomínio fechado, segurança, ótimo estado, 3 quartos, Dep. Completa, Garagem. Visitas tel. CRECI 6754\n",
            "Apartamento 3 quartos (1 suite), mais dependencias completas de empregada, sala em L, cozinha independente da area, garagem, proximo a Praia de Borafogo, metrô e Shopping. Bem iluminado, porcelanato, armário embutido e escrivaninha em 1 quarto. Cozinha ampla repleta de armarios, 2 elevadores.\n",
            "Otimo apartamento em Botafogo Colado no metro, supermercados, cinemas e shoppings. Sala em dois ambientes, 03 amplos quartos com armarios, sendo uma suite, banheiro social completo, cozinha , area de serviço e quarto e empregada Uma vaga de garagem. Otimo \"espaco\" para crianças. Sol da manhã, muita claridade Portaria 24 horas.\n",
            "Lindo apartamento na Rua da Matriz, Ed Portillo, melhor prédio da rua Portaria 24 horas Apartamento bem dividido, sala ampla, varanda, jardim, 3 quartos, sendo 1 suíte e uma dependência enorme com banheiro Vista pro cristo em um dos quartos Quem gosta de natureza vai amar a varanda! 2 vagas de garagem Play com area de lazer, sauna a vapor e espaço para treinos / brincandeiras\n",
            "Centro médico localizado no Bairro de Botafogo na Rua Bambina 124, sala 107, próximo Estação Metro, excelente estado, sala de recepção, 2 salas de atendimento, armários, instalação para ar condicionado split , vaga de garagem.\n",
            "Rua Ministro Raul Fernandes, 116/304 - Ed. DORO - O apartamento no bairro Botafogo possuindo 104 metros quadrados com 3 quartos sendo 1 suite (2 quartos com armários), 2 banheiros (um social e outro suíte), um lavabo, varanda, cozinha com armários, área e uma vaga de garagem. Prédio com infraestrutura, possui academia, espaço gourmet, parquinho infantil, espaço para festas. Vai lhe possibilitar curtir os dias mais quentes na piscina. Fica em um condomínio fechado. Solicitamos como garantia locatícia um fiador proprietário de um imóvel na Cidade do Rio de Janeiro. Marque sua visita.OBSERVAÇÃO: NO VALOR DO CONDOMÍNIO NÃO ESTÁ INCLUÍDO O CONSUMO DE ÁGUA. CADA APARTAMENTO TEM UM HIDROMETRO QUE FAZ A MEDIÇÃO MENSAL DE ÁGUA E ESGOTO.\n",
            "Excelente aptº de frente de 3 quartos, sendo um suíte, sala, cozinha, área e banheiro de empregada, armários embutidos nos quartos, 1 vaga de garagem, próximo ao metrô, vasto comércio, restaurantes., shopping e bancos.\n",
            "OPORTUNIDADE!! Próximo ao metrô de Botafogo. Excelente apto com varandão, apto claro arejado, sala em dois ambientes, lavabo, três quartos sendo uma suíte com armário embutido. Cozinha planejada e área de serviço. Todos comodos tem instação para split. Duas vagas. Infra total, com piscina, academia, espaço gourmet, sauna, banheira de ofurô, churrasqueira e espaço infantil. Venha conferir! FB61. -Cod:TIAP34232 -Rev.05Ago\n",
            "ANTENÇÃO ESTUDANTES E PRA QUEM VEM TRABALHAR POR TEMPORADA, excelente oportunidade apartamento todo mobiliado, juntinho ao Iate Clube, Urca, Uni RIO, Rio Sul, clube do Botafogo.composto de sala com vista para o verde, 3 dormitórios, lavabo, banheiro social, armários, cozinha completa com utensílios para cozinha, área de serviço, banheiro de empregada e quarto , portaria 24h e vaga na garagem\n"
          ]
        }
      ]
    },
    {
      "cell_type": "code",
      "source": [
        "amenities = driver.find_elements(By.CLASS_NAME, 'card__amenities')\n",
        "for a in amenities:\n",
        "  area = a.find_element(By.XPATH,\"p[@itemprop='floorSize']\")\n",
        "  dorms = a.find_element(By.XPATH,\"p[@itemprop='numberOfRooms']\")\n",
        "  banhos = a.find_element(By.XPATH,\"p[@itemprop='numberOfBathroomsTotal']\")\n",
        "  vagas = a.find_element(By.XPATH,\"p[4]\")\n",
        "  print(area.text, dorms.text, banhos.text, vagas.text)\n",
        "\n"
      ],
      "metadata": {
        "colab": {
          "base_uri": "https://localhost:8080/"
        },
        "id": "yVUJ0RPi1Se3",
        "outputId": "69d0fdb7-c4ec-45f4-9776-c39640a4efb7"
      },
      "execution_count": 91,
      "outputs": [
        {
          "output_type": "stream",
          "name": "stdout",
          "text": [
            "403 m² 5 5 2\n",
            "115 m² 4 3 2\n",
            "160 m² 3 2 1\n",
            "85 m² 3 2 1\n",
            "85 m² 3 2 1\n",
            "80 m² 3 2 1\n",
            "90 m² 3 2 1\n",
            "110 m² 3 2 1\n",
            "105 m² 3 3 1\n",
            "130 m² 4 3 2\n",
            "60 m² 3 1 1\n",
            "104 m² 3 2 1\n",
            "90 m² 3 3 1\n",
            "95 m² 3 3 2\n",
            "90 m² 3 3 1\n"
          ]
        }
      ]
    },
    {
      "cell_type": "code",
      "source": [
        "prices = driver.find_elements(By.CLASS_NAME, 'listing-price')\n",
        "\n",
        "for p in prices:\n",
        "  total = p.find_element(By.TAG_NAME, 'p')\n",
        "  preço = p.find_element(By.XPATH, 'p[2]')\n",
        "\n",
        "  print(total.text, preço.text)"
      ],
      "metadata": {
        "colab": {
          "base_uri": "https://localhost:8080/"
        },
        "id": "IHMrD7ctGOXr",
        "outputId": "0f66b61f-6fb7-4187-f2a7-5d97e64d1876"
      },
      "execution_count": 113,
      "outputs": [
        {
          "output_type": "stream",
          "name": "stdout",
          "text": [
            "Total R$ 19.110 Aluguel de R$ 16.000\n",
            "Total R$ 7.382 Aluguel de R$ 5.700\n",
            "Total R$ 6.100 Aluguel de R$ 4.000\n",
            "Total R$ 3.833 Aluguel de R$ 3.000\n",
            "Total R$ 5.853 Aluguel de R$ 4.300\n",
            "Total R$ 11.000 Aluguel de R$ 10.000\n",
            "Total R$ 3.750 Aluguel de R$ 2.900\n",
            "Total R$ 4.900 Aluguel de R$ 3.600\n",
            "Total R$ 4.700 Aluguel de R$ 3.500\n",
            "Total R$ 7.689 Aluguel de R$ 5.999\n",
            "Total R$ 2.043 Aluguel de R$ 1.000\n",
            "Total R$ 6.332 Aluguel de R$ 4.500\n",
            "Total R$ 4.900 Aluguel de R$ 3.500\n",
            "Total R$ 5.960 Aluguel de R$ 4.650\n",
            "Total R$ 4.812 Aluguel de R$ 3.800\n"
          ]
        }
      ]
    },
    {
      "cell_type": "code",
      "source": [
        "# Tentativa via API\n",
        "\n",
        "import requests\n",
        "from requests.structures import CaseInsensitiveDict\n",
        "\n",
        "url = \"https://glue-api.zapimoveis.com.br/v2/listings?user=a871a7dc-e273-4a7e-b5db-46684a31b7d4&portal=ZAP&includeFields=search^%^28result^%^28listings^%^28listing^%^28listingsCount^%^2CsourceId^%^2CdisplayAddressType^%^2Camenities^%^2CusableAreas^%^2CconstructionStatus^%^2ClistingType^%^2Cdescription^%^2Ctitle^%^2Cstamps^%^2CcreatedAt^%^2Cfloors^%^2CunitTypes^%^2CnonActivationReason^%^2CproviderId^%^2CpropertyType^%^2CunitSubTypes^%^2CunitsOnTheFloor^%^2ClegacyId^%^2Cid^%^2Cportal^%^2CunitFloor^%^2CparkingSpaces^%^2CupdatedAt^%^2Caddress^%^2Csuites^%^2CpublicationType^%^2CexternalId^%^2Cbathrooms^%^2CusageTypes^%^2CtotalAreas^%^2CadvertiserId^%^2CadvertiserContact^%^2CwhatsappNumber^%^2Cbedrooms^%^2CacceptExchange^%^2CpricingInfos^%^2CshowPrice^%^2Cresale^%^2Cbuildings^%^2CcapacityLimit^%^2Cstatus^%^2CpriceSuggestion^%^29^%^2Caccount^%^28id^%^2Cname^%^2ClogoUrl^%^2ClicenseNumber^%^2CshowAddress^%^2ClegacyVivarealId^%^2ClegacyZapId^%^2CcreatedDate^%^2Cminisite^%^2Ctier^%^29^%^2Cmedias^%^2CaccountLink^%^2Clink^%^29^%^29^%^2CtotalCount^%^29^%^2Cpage^%^2Cfacets^%^2CfullUriFragments^%^2CsuperPremium^%^28search^%^28result^%^28listings^%^28listing^%^28listingsCount^%^2CsourceId^%^2CdisplayAddressType^%^2Camenities^%^2CusableAreas^%^2CconstructionStatus^%^2ClistingType^%^2Cdescription^%^2Ctitle^%^2Cstamps^%^2CcreatedAt^%^2Cfloors^%^2CunitTypes^%^2CnonActivationReason^%^2CproviderId^%^2CpropertyType^%^2CunitSubTypes^%^2CunitsOnTheFloor^%^2ClegacyId^%^2Cid^%^2Cportal^%^2CunitFloor^%^2CparkingSpaces^%^2CupdatedAt^%^2Caddress^%^2Csuites^%^2CpublicationType^%^2CexternalId^%^2Cbathrooms^%^2CusageTypes^%^2CtotalAreas^%^2CadvertiserId^%^2CadvertiserContact^%^2CwhatsappNumber^%^2Cbedrooms^%^2CacceptExchange^%^2CpricingInfos^%^2CshowPrice^%^2Cresale^%^2Cbuildings^%^2CcapacityLimit^%^2Cstatus^%^2CpriceSuggestion^%^29^%^2Caccount^%^28id^%^2Cname^%^2ClogoUrl^%^2ClicenseNumber^%^2CshowAddress^%^2ClegacyVivarealId^%^2ClegacyZapId^%^2CcreatedDate^%^2Cminisite^%^2Ctier^%^29^%^2Cmedias^%^2CaccountLink^%^2Clink^%^29^%^29^%^2CtotalCount^%^29^%^29&categoryPage=RESULT&developmentsSize=0&superPremiumSize=0&__zt=mtc^%^3Adeduplication&business=RENTAL&bedrooms=3^%^2C4&parentId=null&listingType=USED&addressCity=Rio+de+Janeiro&addressZone=Zona+Sul&addressLocationId=BR^%^3ERio+de+Janeiro^%^3ENULL^%^3ERio+de+Janeiro^%^3EZona+Sul^%^3EBotafogo&addressState=Rio+de+Janeiro&addressNeighborhood=Botafogo&addressPointLat=-22.951193&addressPointLon=-43.180784&addressType=neighborhood&page=2&size=15&from=112&levels=NEIGHBORHOOD&ref=\"\n",
        "\n",
        "headers = CaseInsensitiveDict()\n",
        "headers[\"Accept\"] = \"*/*\"\n",
        "headers[\"Accept-Language\"] = \"pt-BR,pt;q=0.9,en-US;q=0.8,en;q=0.7,fr;q=0.6\"\n",
        "headers[\"Access-Control-Request-Headers\"] = \"authorization,x-deviceid,x-domain\"\n",
        "headers[\"x-domain\"] = \"https://www.zapimoveis.com.br\"\n",
        "headers[\"Access-Control-Request-Method\"] = \"GET\"\n",
        "headers[\"Connection\"] = \"keep-alive\"\n",
        "headers[\"Origin\"] = \"https://www.zapimoveis.com.br\"\n",
        "headers[\"Referer\"] = \"https://www.zapimoveis.com.br/\"\n",
        "headers[\"Sec-Fetch-Dest\"] = \"empty\"\n",
        "headers[\"Sec-Fetch-Mode\"] = \"same-origin\"\n",
        "headers[\"Sec-Fetch-Site\"] = \"same-site\"\n",
        "headers[\"User-Agent\"] = \"Mozilla/5.0 (Windows NT 10.0; Win64; x64) AppleWebKit/537.36 (KHTML, like Gecko) Chrome/109.0.0.0 Safari/537.36\"\n",
        "\n",
        "\n",
        "resp = requests.options(url, headers=headers)\n",
        "\n",
        "print(resp.status_code)\n",
        "\n"
      ],
      "metadata": {
        "colab": {
          "base_uri": "https://localhost:8080/"
        },
        "id": "sirg-MElpURg",
        "outputId": "86c255c8-a115-4b95-bdeb-4b30e3c080b8"
      },
      "execution_count": null,
      "outputs": [
        {
          "output_type": "stream",
          "name": "stdout",
          "text": [
            "204\n"
          ]
        }
      ]
    },
    {
      "cell_type": "code",
      "source": [
        "r = requests.request('GET', url, headers= headers)\n",
        "print(r.json())"
      ],
      "metadata": {
        "colab": {
          "base_uri": "https://localhost:8080/"
        },
        "id": "rHAL5sT48ziE",
        "outputId": "cce0a06c-9a3f-40f9-c5b6-6a7ef1b1d276"
      },
      "execution_count": null,
      "outputs": [
        {
          "output_type": "stream",
          "name": "stdout",
          "text": [
            "{'err': \"{\\n  code: 'UNEXPECTED-RESPONSE',\\n  statusCode: 500,\\n  details: {\\n    err: null,\\n    response: IncomingMessage {\\n      _readableState: [ReadableState],\\n      _events: [Object: null prototype],\\n      _eventsCount: 3,\\n      _maxListeners: undefined,\\n      socket: [Socket],\\n      httpVersionMajor: 1,\\n      httpVersionMinor: 1,\\n      httpVersion: '1.1',\\n      complete: true,\\n      rawHeaders: [Array],\\n      rawTrailers: [],\\n      aborted: false,\\n      upgrade: false,\\n      url: '',\\n      method: null,\\n      statusCode: 500,\\n      statusMessage: '',\\n      client: [Socket],\\n      _consuming: true,\\n      _dumped: false,\\n      req: [ClientRequest],\\n      request: [Request],\\n      toJSON: [Function: responseToJSON],\\n      caseless: [Caseless],\\n      body: [Object],\\n      [Symbol(kCapture)]: false,\\n      [Symbol(kHeaders)]: [Object],\\n      [Symbol(kHeadersCount)]: 14,\\n      [Symbol(kTrailers)]: null,\\n      [Symbol(kTrailersCount)]: 0,\\n      [Symbol(RequestTimeout)]: undefined\\n    }\\n  }\\n}\", 'details': {'timestamp': '2023-08-03T10:59:47.194+00:00', 'status': 500, 'error': 'Internal Server Error', 'message': 'Failed response from msearch', 'path': '/v3/msearch', 'request': {}}}\n"
          ]
        }
      ]
    },
    {
      "cell_type": "code",
      "source": [
        "for t in teste:\n",
        "  print(t.text)\n"
      ],
      "metadata": {
        "id": "_EtsRmrZRNLH"
      },
      "execution_count": null,
      "outputs": []
    },
    {
      "cell_type": "markdown",
      "source": [
        "###Aplicando à Pagina"
      ],
      "metadata": {
        "id": "vtjZh2iuoCWg"
      }
    },
    {
      "cell_type": "code",
      "source": [
        "# Construindo uma lista de infos que serão retiradas do site\n",
        "\n",
        "list_endereco= list()\n",
        "list_area= list()\n",
        "list_quartos = list()\n",
        "list_banheiros = list()\n",
        "list_garagem = list()\n",
        "list_preco = list()\n",
        "list_condominio = list()\n",
        "list_iptu = list()\n",
        "list_amenidades = list()"
      ],
      "metadata": {
        "id": "gU6MhrqUtCsD"
      },
      "execution_count": null,
      "outputs": []
    },
    {
      "cell_type": "code",
      "source": [
        "pbar = tqdm(range(1,4))\n",
        "for pagina in pbar:\n",
        "\n",
        "  url = f'  https://www.zapimoveis.com.br/aluguel/imoveis/rj+rio-de-janeiro+zona-sul+botafogo/?transacao=aluguel&onde=,Rio%20de%20Janeiro,Rio%20de%20Janeiro,Zona%20Sul,Botafogo,,,neighborhood,BR%3ERio%20de%20Janeiro%3ENULL%3ERio%20de%20Janeiro%3EZona%20Sul%3EBotafogo,-22.951193,-43.180784,&pagina={pagina}&quartos=3,4'\n",
        "\n",
        "  #TQDM com a informação de progresso\n",
        "  pbar.set_description(\"Processando página %s\" % pagina)\n",
        "\n",
        "  #Faz requisição e resposta à página\n",
        "  driver = webdriver.Chrome(options= chrome_options)\n",
        "  driver.get(url)\n",
        "\n",
        "  #Acessa os anuncios atraves do nome da Classe html\n",
        "  resultados = driver.find_elements(By.CSS_SELECTOR, 'div.l-card__content')\n",
        "\n",
        "  pbar2 = tqdm(resultados)\n",
        "  for r in pbar2:\n",
        "\n",
        "    list_endereco.append(r.find_element(By.CLASS_NAME, 'card__address').text)\n",
        "    list_area.append(r.find_element(By.CSS_SELECTOR, 'li.feature__item.text-small.js-areas').text)\n",
        "    list_quartos.append(r.find_element(By.CSS_SELECTOR, 'li.feature__item.text-small.js-bedrooms').text)\n",
        "    list_banheiros.append(r.find_element(By.CSS_SELECTOR, 'li.feature__item.text-small.js-bathrooms').text)\n",
        "    list_garagem.append(r.find_elements(By.CSS_SELECTOR, 'li.feature__item.text-small.js-parking-spaces'))\n",
        "    list_preco.append(r.find_elements(By.CSS_SELECTOR, 'p.simple-card__price.js-price.color-darker.heading-regular.heading-regular__bolder.align-left'))\n",
        "    list_condominio.append(r.find_element(By.CSS_SELECTOR, 'span.card-price__value').text)\n",
        "    list_iptu.append(r.find_elements(By.CLASS_NAME, 'card-price__item.iptu.text-regular'))\n"
      ],
      "metadata": {
        "id": "JB_CpSk4J2ZB"
      },
      "execution_count": null,
      "outputs": []
    },
    {
      "cell_type": "code",
      "source": [
        "#Fazendo pagina por pagina (Pag 1)\n",
        "\n",
        "url = f'https://www.zapimoveis.com.br/aluguel/apartamentos/rj+rio-de-janeiro+zona-sul+jd-botanico/?onde=,Rio%20de%20Janeiro,Rio%20de%20Janeiro,Zona%20Sul,Jardim%20Bot%C3%A2nico,,,neighborhood,BR%3ERio%20de%20Janeiro%3ENULL%3ERio%20de%20Janeiro%3EZona%20Sul%3EJardim%20Botanico,-22.963785,-43.222283,%2Faluguel%2Fapartamentos%2Frj%2Brio-de-janeiro%2Bzona-sul%2Bjd-botanico%2F&pagina=1&tipo=Im%C3%B3vel%20usado&tipoUnidade=Residencial,Apartamento&transacao=Aluguel'\n",
        "\n",
        "#Faz requisição e resposta à página\n",
        "driver = webdriver.Chrome(options=chrome_options)\n",
        "driver.get(url)\n",
        "\n",
        "#Armazena e parseia em soup\n",
        "response = driver.page_source\n",
        "soup = BeautifulSoup(response, 'html.parser')\n",
        "\n",
        "for r in driver.find_elements(By.CLASS_NAME, 'card-container'):\n",
        "  print(r.text, '/n')\n"
      ],
      "metadata": {
        "id": "GFZYt02NjiAy"
      },
      "execution_count": null,
      "outputs": []
    },
    {
      "cell_type": "code",
      "source": [
        "list_preco = list()\n",
        "\n",
        "for r in driver.find_elements(By.CSS_SELECTOR, 'p.simple-card__price.js-price.color-darker.heading-regular.heading-regular__bolder.align-left'):\n",
        "  list_preco.append((r.text))\n",
        "\n",
        "print(list_preco)"
      ],
      "metadata": {
        "colab": {
          "base_uri": "https://localhost:8080/"
        },
        "id": "RLuli6ziEAn_",
        "outputId": "0717f352-8025-4f40-9dcb-af7e153f0ee2"
      },
      "execution_count": null,
      "outputs": [
        {
          "output_type": "stream",
          "name": "stdout",
          "text": [
            "['R$ 5.400 /mês', 'R$ 4.850 /mês', 'R$ 4.000 /mês', 'R$ 3.000 /mês', 'R$ 2.500 /mês', 'R$ 3.200 /mês', 'R$ 4.800 /mês', 'R$ 4.100 /mês', 'R$ 13.600 /mês', 'R$ 2.500 /mês', 'R$ 3.900 /mês', 'R$ 2.450 /mês', 'R$ 4.000 /mês', 'R$ 4.000 /mês', 'R$ 13.600 /mês', 'R$ 4.300 /mês', 'R$ 3.000 /mês', 'R$ 4.000 /mês', 'R$ 2.600 /mês', 'R$ 5.200 /mês', 'R$ 2.400 /mês', 'R$ 4.500 /mês', 'R$ 6.500 /mês']\n"
          ]
        }
      ]
    },
    {
      "cell_type": "code",
      "source": [
        "list_condominio = list()\n",
        "\n",
        "for r in driver.find_elements(By.CSS_SELECTOR, 'span.card-price__value'):\n",
        "  list_condominio.append(r.text)\n",
        "\n",
        "print(list_condominio)"
      ],
      "metadata": {
        "id": "mrh02a0kXT10",
        "colab": {
          "base_uri": "https://localhost:8080/"
        },
        "outputId": "a6edbeb7-1be5-4cda-e7c8-445b22e2a263"
      },
      "execution_count": null,
      "outputs": [
        {
          "output_type": "stream",
          "name": "stdout",
          "text": [
            "['R$ 1.600', 'R$ 560', 'R$ 1.491', 'R$ 343', 'R$ 842', 'R$ 480', 'R$ 1.038', 'R$ 953', 'R$ 265', 'R$ 1.047', 'R$ 287', 'R$ 1.250', 'R$ 484', 'R$ 1.085', 'R$ 354', 'R$ 1.063', 'R$ 322', 'R$ 507', 'R$ 186', 'R$ 1.424', 'R$ 311', 'R$ 600', 'R$ 113', 'R$ 651', 'R$ 391', 'R$ 842', 'R$ 480', 'R$ 1.063', 'R$ 322', 'R$ 832', 'R$ 479', 'R$ 459', 'R$ 197', 'R$ 1.188', 'R$ 350', 'R$ 1.021', 'R$ 274', 'R$ 550', 'R$ 350', 'R$ 958', 'R$ 210', 'R$ 1.306', 'R$ 293', 'R$ 1.170', 'R$ 322', 'R$ 2.000', 'R$ 334']\n"
          ]
        }
      ]
    },
    {
      "cell_type": "code",
      "source": [
        "list_iptu = list()\n",
        "\n",
        "for r in driver.find_elements(By.CLASS_NAME, 'card-price__item.iptu.text-regular'):\n",
        "  list_iptu.append((r.text))\n",
        "\n",
        "print(list_iptu)"
      ],
      "metadata": {
        "colab": {
          "base_uri": "https://localhost:8080/"
        },
        "id": "f1FqTVa7EbYY",
        "outputId": "b3380fab-b79f-46dd-9ebd-d8bf0c501b95"
      },
      "execution_count": null,
      "outputs": [
        {
          "output_type": "stream",
          "name": "stdout",
          "text": [
            "['IPTU R$ 560', 'IPTU R$ 343', 'IPTU R$ 480', 'IPTU R$ 265', 'IPTU R$ 287', 'IPTU R$ 484', 'IPTU R$ 354', 'IPTU R$ 322', 'IPTU R$ 186', 'IPTU R$ 311', 'IPTU R$ 113', 'IPTU R$ 391', 'IPTU R$ 480', 'IPTU R$ 322', 'IPTU R$ 479', 'IPTU R$ 197', 'IPTU R$ 350', 'IPTU R$ 274', 'IPTU R$ 350', 'IPTU R$ 210', 'IPTU R$ 293', 'IPTU R$ 322', 'IPTU R$ 334']\n"
          ]
        }
      ]
    },
    {
      "cell_type": "code",
      "source": [
        "for r in driver.find_elements(By.CLASS_NAME, 'simple-card__address'):\n",
        "  list_endereco.append((r.text))\n",
        "\n",
        "print(list_endereco)"
      ],
      "metadata": {
        "colab": {
          "base_uri": "https://localhost:8080/"
        },
        "id": "k_t_ooyCFBsE",
        "outputId": "f8641ca6-a077-48e4-97c0-6817cd5cb695"
      },
      "execution_count": null,
      "outputs": [
        {
          "output_type": "stream",
          "name": "stdout",
          "text": [
            "['Rua Pio Correia, Jardim Botânico', 'Rua Pio Correia, Jardim Botânico', 'Rua Lópes Quintas, Jardim Botânico', 'Rua J. Carlos, Jardim Botânico', 'Rua Von Martius, Jardim Botânico', 'Rua Pio Correia, Jardim Botânico', 'Rua Visconde da Graça, Jardim Botânico', 'Rua Visconde da Graça, Jardim Botânico', 'Jardim Botânico, Rio de Janeiro', 'Rua Maria Angélica, Jardim Botânico', 'Avenida Lineu de Paula Machado, Jardim Botânico', 'Praça Pio XI, Jardim Botânico', 'Rua Jardim Botânico, Jardim Botânico', 'Rua Lópes Quintas, Jardim Botânico', 'Jardim Botânico, Rio de Janeiro', 'Rua Lópes Quintas, Jardim Botânico', 'Rua Senador Simonsen, Jardim Botânico', 'Rua Faro, Jardim Botânico', 'Rua Jardim Botânico, Jardim Botânico', 'Rua Ingles de Sousa, Jardim Botânico', 'Rua Jardim Botânico, Jardim Botânico', 'Rua Faro, Jardim Botânico', 'Rua Jardim Botânico, Jardim Botânico', 'Rua Jardim Botânico, Jardim Botânico']\n"
          ]
        }
      ]
    },
    {
      "cell_type": "code",
      "source": [
        "list_quartos = list()\n",
        "\n",
        "for r in driver.find_elements(By.CSS_SELECTOR, 'li.feature__item.text-small.js-bedrooms'):\n",
        "  list_quartos.append(r.text)\n",
        "\n",
        "print(list_quartos)"
      ],
      "metadata": {
        "colab": {
          "base_uri": "https://localhost:8080/"
        },
        "id": "A4X77A5cFuWv",
        "outputId": "9e656552-8270-49d7-ee00-cc50de0a065a"
      },
      "execution_count": null,
      "outputs": [
        {
          "output_type": "stream",
          "name": "stdout",
          "text": [
            "['bedroom 3', 'bedroom 3', 'bedroom 2', 'bedroom 2', 'bedroom 3', 'bedroom 2', 'bedroom 3', 'bedroom 2', 'bedroom 2', 'bedroom 1', 'bedroom 3', 'bedroom 1', 'bedroom 2', 'bedroom 2', 'bedroom 2', 'bedroom 2', 'bedroom 2', 'bedroom 2', 'bedroom 2', 'bedroom 3', 'bedroom 2', 'bedroom 2', 'bedroom 2', 'bedroom 2']\n"
          ]
        }
      ]
    },
    {
      "cell_type": "code",
      "source": [
        "list_banheiros = list()\n",
        "\n",
        "for r in driver.find_elements(By.CSS_SELECTOR, 'li.feature__item.text-small.js-bathrooms'):\n",
        "  list_banheiros.append(r.text)\n",
        "\n",
        "print(list_banheiros)"
      ],
      "metadata": {
        "colab": {
          "base_uri": "https://localhost:8080/"
        },
        "id": "s_hDHU8AeBla",
        "outputId": "8bfb9861-8d11-4ac9-bc6b-133ed87d97e7"
      },
      "execution_count": null,
      "outputs": [
        {
          "output_type": "stream",
          "name": "stdout",
          "text": [
            "['', '', '', '', 'bathroom 2', '', '', '', '', 'bathroom 1', '', 'bathroom 1', '', '', '', '', '', '', 'bathroom 2', '', '', '', '', '']\n"
          ]
        }
      ]
    },
    {
      "cell_type": "code",
      "source": [
        "list_area= list()\n",
        "\n",
        "for r in driver.find_elements(By.CSS_SELECTOR, 'li.feature__item.text-small.js-areas'):\n",
        "  list_area.append(r.text)\n",
        "\n",
        "print(list_area)\n"
      ],
      "metadata": {
        "colab": {
          "base_uri": "https://localhost:8080/"
        },
        "id": "f5lMn1jyfhPB",
        "outputId": "87861000-0be8-4ba6-946b-3b0007c0f1df"
      },
      "execution_count": null,
      "outputs": [
        {
          "output_type": "stream",
          "name": "stdout",
          "text": [
            "['area 136 m²', 'area 111 m²', 'area 90 m²', 'area 75 m²', 'area 78 m²', 'area 78 m²', 'area 93 m²', 'area 80 m²', 'area 78 m²', 'area 50 m²', 'area 100 m²', 'area 40 m²', 'area 117 m²', 'area 90 m²', 'area 78 m²', 'area 85 m²', 'area 63 m²', 'area 75 m²', 'area 85 m²', 'area 96 m²', 'area 67 m²', 'area 72 m²', 'area 90 m²', 'area 100 m²']\n"
          ]
        }
      ]
    },
    {
      "cell_type": "code",
      "source": [
        "list_garagem = list()\n",
        "\n",
        "for r in driver.find_elements(By.CSS_SELECTOR, 'li.feature__item.text-small.js-parking-spaces'):\n",
        "  list_garagem.append(r.text)\n",
        "\n",
        "print(list_garagem)"
      ],
      "metadata": {
        "colab": {
          "base_uri": "https://localhost:8080/"
        },
        "id": "7fn9KON5gGqo",
        "outputId": "b92cb2d8-553d-4006-f5d4-39893b05df4b"
      },
      "execution_count": null,
      "outputs": [
        {
          "output_type": "stream",
          "name": "stdout",
          "text": [
            "['', '', 'parking 1', 'parking 1', 'parking 1', 'parking 1', 'parking 1', 'parking 1', '', 'parking 1', 'parking 1', 'parking 1', 'parking 1', 'parking 1', 'parking 1', 'parking 1', 'parking 1', 'parking 1', '']\n"
          ]
        }
      ]
    },
    {
      "cell_type": "code",
      "source": [
        "#Fazendo pagina por pagina (Pag 2)\n",
        "\n",
        "url = f'https://www.zapimoveis.com.br/aluguel/apartamentos/rj+rio-de-janeiro+zona-sul+jd-botanico/?onde=,Rio%20de%20Janeiro,Rio%20de%20Janeiro,Zona%20Sul,Jardim%20Bot%C3%A2nico,,,neighborhood,BR%3ERio%20de%20Janeiro%3ENULL%3ERio%20de%20Janeiro%3EZona%20Sul%3EJardim%20Botanico,-22.963785,-43.222283,%2Faluguel%2Fapartamentos%2Frj%2Brio-de-janeiro%2Bzona-sul%2Bjd-botanico%2F&pagina=2&tipo=Im%C3%B3vel%20usado&tipoUnidade=Residencial,Apartamento&transacao=Aluguel'\n",
        "\n",
        "#Faz requisição e resposta à página\n",
        "driver = webdriver.Chrome(chrome_options=chrome_options)\n",
        "driver.get(url)\n",
        "\n",
        "#Armazena e parseia em soup\n",
        "response = driver.page_source\n",
        "soup = BeautifulSoup(response, 'html.parser')\n",
        "\n",
        "len(driver.find_elements(By.CLASS_NAME, 'card-container'))\n",
        "\n",
        "for r in driver.find_elements(By.CLASS_NAME, 'card-container'):\n",
        "  print(r.text, '/n')\n"
      ],
      "metadata": {
        "colab": {
          "base_uri": "https://localhost:8080/"
        },
        "id": "UGR14JT-0Kbr",
        "outputId": "92ed7bac-68b7-4d3b-8b4a-a5110d175b35"
      },
      "execution_count": null,
      "outputs": [
        {
          "output_type": "stream",
          "name": "stderr",
          "text": [
            "/usr/local/lib/python3.7/dist-packages/ipykernel_launcher.py:6: DeprecationWarning: use options instead of chrome_options\n",
            "  \n"
          ]
        },
        {
          "output_type": "stream",
          "name": "stdout",
          "text": [
            "arrow_big_shadow_right\n",
            "super destaque\n",
            "heart\n",
            "R$ 4.800 /mês\n",
            "condomínioR$ 952 IPTU R$ 380\n",
            "Rua Benjamim Batista, Jardim Botânico\n",
            "area 109 m²\n",
            "bedroom 3\n",
            "Ligar\n",
            "Mensagem /n\n",
            "arrow_big_shadow_right\n",
            "super destaque\n",
            "heart\n",
            "R$ 13.000 /mês\n",
            "verified\n",
            "Preço abaixo do mercado\n",
            "condomínioR$ 2.300 IPTU R$ 1.719\n",
            "Rua Benjamim Batista, Jardim Botânico\n",
            "area 325 m²\n",
            "bedroom 3\n",
            "Ligar\n",
            "Mensagem /n\n",
            "arrow_big_shadow_right\n",
            "super destaque\n",
            "heart\n",
            "R$ 5.400 /mês\n",
            "condomínioR$ 1.600 IPTU R$ 560\n",
            "Rua Pio Correia, Jardim Botânico\n",
            "area 136 m²\n",
            "bedroom 3\n",
            "Ligar\n",
            "Mensagem /n\n",
            "arrow_big_shadow_right\n",
            "heart\n",
            "R$ 2.680 /mês\n",
            "condomínioR$ 941 IPTU R$ 142\n",
            "Jardim Botânico, Rio de Janeiro\n",
            "area 48 m²\n",
            "bedroom 1\n",
            "parking 1\n",
            "Ligar\n",
            "Mensagem /n\n",
            "arrow_big_shadow_right\n",
            "heart\n",
            "R$ 10.850 /mês\n",
            "condomínioR$ 1.847 IPTU R$ 291\n",
            "Jardim Botânico, Rio de Janeiro\n",
            "area 85 m²\n",
            "bedroom 2\n",
            "parking 1\n",
            "Ligar\n",
            "Mensagem /n\n",
            "arrow_big_shadow_right\n",
            "super destaque\n",
            "heart\n",
            "R$ 5.400 /mês\n",
            "condomínioR$ 1.600 IPTU R$ 560\n",
            "Rua Pio Correia, Jardim Botânico\n",
            "area 136 m²\n",
            "bedroom 3\n",
            "Ligar\n",
            "Mensagem /n\n",
            "arrow_big_shadow_right\n",
            "heart\n",
            "R$ 3.600 /mês\n",
            "condomínioR$ 1.026 IPTU R$ 250\n",
            "Rua Maria Angélica, Jardim Botânico\n",
            "area 75 m²\n",
            "bedroom 2\n",
            "parking 1\n",
            "Ligar\n",
            "Mensagem /n\n",
            "arrow_big_shadow_right\n",
            "heart\n",
            "R$ 2.800 /mês\n",
            "condomínioR$ 800 IPTU R$ 220\n",
            "Jardim Botânico, Rio de Janeiro\n",
            "area 58 m²\n",
            "bedroom 2\n",
            "parking 1\n",
            "Ligar\n",
            "Mensagem /n\n",
            "arrow_big_shadow_right\n",
            "destaque\n",
            "heart\n",
            "R$ 7.500 /mês\n",
            "condomínioR$ 1.827 IPTU R$ 642\n",
            "Avenida Lineu de Paula Machado, Jardim Botânico\n",
            "area 120 m²\n",
            "bedroom 3\n",
            "Ligar\n",
            "Mensagem /n\n",
            "arrow_big_shadow_right\n",
            "destaque\n",
            "heart\n",
            "R$ 3.800 /mês\n",
            "condomínioR$ 1.097 IPTU R$ 3.216\n",
            "Jardim Botânico, Rio de Janeiro\n",
            "area 73 m²\n",
            "bedroom 1\n",
            "parking 1\n",
            "Ligar\n",
            "Mensagem /n\n",
            "arrow_big_shadow_right\n",
            "heart\n",
            "R$ 5.200 /mês\n",
            "condomínioR$ 1.491 IPTU R$ 374\n",
            "Rua Pio Correia, Jardim Botânico\n",
            "area 111 m²\n",
            "bedroom 3\n",
            "Ligar\n",
            "Mensagem /n\n",
            "arrow_big_shadow_right\n",
            "destaque\n",
            "heart\n",
            "R$ 3.690 /mês\n",
            "condomínioR$ 1.026 IPTU R$ 248\n",
            "Rua Maria Angélica, Jardim Botânico\n",
            "area 75 m²\n",
            "bedroom 2\n",
            "parking 1\n",
            "Ligar\n",
            "Mensagem /n\n",
            "arrow_big_shadow_right\n",
            "destaque\n",
            "heart\n",
            "R$ 2.800 /mês\n",
            "condomínioR$ 1.536 IPTU R$ 283\n",
            "Rua Pio Correia, Jardim Botânico\n",
            "area 79 m²\n",
            "bedroom 2\n",
            "parking 1\n",
            "Ligar\n",
            "Mensagem /n\n",
            "arrow_big_shadow_right\n",
            "destaque\n",
            "heart\n",
            "R$ 7.000 /mês\n",
            "condomínioR$ 1.500 IPTU R$ 560\n",
            "Rua Lópes Quintas, Jardim Botânico\n",
            "area 130 m²\n",
            "bedroom 3\n",
            "Ligar\n",
            "Mensagem /n\n",
            "arrow_big_shadow_right\n",
            "heart\n",
            "R$ 5.200 /mês\n",
            "condomínioR$ 1.491 IPTU R$ 375\n",
            "Rua Pio Correia, Jardim Botânico\n",
            "area 111 m²\n",
            "bedroom 3\n",
            "Ligar\n",
            "Mensagem /n\n",
            "arrow_big_shadow_right\n",
            "destaque\n",
            "heart\n",
            "R$ 3.600 /mês\n",
            "verified\n",
            "Preço abaixo do mercado\n",
            "condomínioR$ 1.005 IPTU R$ 473\n",
            "Rua Jardim Botânico, Jardim Botânico\n",
            "area 118 m²\n",
            "bedroom 3\n",
            "Ligar\n",
            "Mensagem /n\n",
            "arrow_big_shadow_right\n",
            "destaque\n",
            "heart\n",
            "R$ 6.000 /mês\n",
            "condomínioR$ 1.250 IPTU R$ 507\n",
            "Rua Benjamim Batista, Jardim Botânico\n",
            "area 112 m²\n",
            "bedroom 3\n",
            "Ligar\n",
            "Mensagem /n\n",
            "arrow_big_shadow_right\n",
            "super destaque\n",
            "heart\n",
            "R$ 4.500 /mês\n",
            "condomínioR$ 1.216 IPTU R$ 3.290\n",
            "Rua Peri, Jardim Botânico\n",
            "area 93 m²\n",
            "bedroom 3\n",
            "parking 1\n",
            "Ligar\n",
            "Mensagem /n\n",
            "arrow_big_shadow_right\n",
            "destaque\n",
            "heart\n",
            "R$ 4.000 /mês\n",
            "condomínioR$ 806 IPTU R$ 225\n",
            "Rua Itaipava, Jardim Botânico\n",
            "area 80 m²\n",
            "bedroom 3\n",
            "bathroom 2\n",
            "Ligar\n",
            "Mensagem /n\n",
            "arrow_big_shadow_right\n",
            "heart\n",
            "R$ 4.800 /mês\n",
            "condomínioR$ 1.700 IPTU R$ 527\n",
            "Jardim Botânico, Rio de Janeiro\n",
            "area 115 m²\n",
            "bedroom 3\n",
            "Ligar\n",
            "Mensagem /n\n",
            "arrow_big_shadow_right\n",
            "heart\n",
            "R$ 5.500 /mês\n",
            "condomínioR$ 1.500 IPTU R$ 500\n",
            "Rua Conde Afonso Celso, Jardim Botânico\n",
            "area 100 m²\n",
            "bedroom 3\n",
            "Ligar\n",
            "Mensagem /n\n",
            "arrow_big_shadow_right\n",
            "destaque\n",
            "heart\n",
            "R$ 5.300 /mês\n",
            "condomínioR$ 1.400 IPTU R$ 349\n",
            "Rua Visconde da Graça, Jardim Botânico\n",
            "area 103 m²\n",
            "bedroom 3\n",
            "Ligar\n",
            "Mensagem /n\n",
            "arrow_big_shadow_right\n",
            "destaque\n",
            "heart\n",
            "R$ 3.000 /mês\n",
            "condomínioR$ 1.472 IPTU R$ 292\n",
            "Rua Maria Angélica, Jardim Botânico\n",
            "area 75 m²\n",
            "bedroom 2\n",
            "parking 1\n",
            "Ligar\n",
            "Mensagem /n\n",
            "arrow_big_shadow_right\n",
            "heart\n",
            "R$ 4.300 /mês\n",
            "condomínioR$ 837 IPTU R$ 1\n",
            "Rua Jardim Botânico, Jardim Botânico\n",
            "area 59 m²\n",
            "bedroom 1\n",
            "bathroom 1\n",
            "Ligar\n",
            "Mensagem /n\n"
          ]
        }
      ]
    },
    {
      "cell_type": "code",
      "source": [
        "#Fazendo pagina por pagina (Pag 3)\n",
        "\n",
        "url = f'https://www.zapimoveis.com.br/aluguel/apartamentos/rj+rio-de-janeiro+zona-sul+jd-botanico/?onde=,Rio%20de%20Janeiro,Rio%20de%20Janeiro,Zona%20Sul,Jardim%20Bot%C3%A2nico,,,neighborhood,BR%3ERio%20de%20Janeiro%3ENULL%3ERio%20de%20Janeiro%3EZona%20Sul%3EJardim%20Botanico,-22.963785,-43.222283,%2Faluguel%2Fapartamentos%2Frj%2Brio-de-janeiro%2Bzona-sul%2Bjd-botanico%2F&pagina=3&tipo=Im%C3%B3vel%20usado&tipoUnidade=Residencial,Apartamento&transacao=Aluguel'\n",
        "\n",
        "#Faz requisição e resposta à página\n",
        "driver = webdriver.Chrome(chrome_options=chrome_options)\n",
        "driver.get(url)\n",
        "\n",
        "#Armazena e parseia em soup\n",
        "response = driver.page_source\n",
        "soup = BeautifulSoup(response, 'html.parser')\n",
        "\n",
        "len(driver.find_elements(By.CLASS_NAME, 'card-container'))\n",
        "\n",
        "for r in driver.find_elements(By.CLASS_NAME, 'card-container'):\n",
        "  print(r.text, '/n')"
      ],
      "metadata": {
        "colab": {
          "base_uri": "https://localhost:8080/"
        },
        "id": "lB_2Waqg0g8R",
        "outputId": "b71eb566-903c-4422-fa2f-4b7aeb272145"
      },
      "execution_count": null,
      "outputs": [
        {
          "output_type": "stream",
          "name": "stderr",
          "text": [
            "/usr/local/lib/python3.7/dist-packages/ipykernel_launcher.py:6: DeprecationWarning: use options instead of chrome_options\n",
            "  \n"
          ]
        },
        {
          "output_type": "stream",
          "name": "stdout",
          "text": [
            "arrow_big_shadow_right\n",
            "heart\n",
            "R$ 4.300 /mês\n",
            "condomínioR$ 1.200 IPTU R$ 250\n",
            "Avenida Lineu de Paula Machado, Jardim Botânico\n",
            "area 91 m²\n",
            "bedroom 3\n",
            "parking 1\n",
            "Ligar\n",
            "Mensagem /n\n",
            "arrow_big_shadow_right\n",
            "heart\n",
            "R$ 3.100 /mês\n",
            "condomínioR$ 1.330 IPTU R$ 240\n",
            "Rua Faro, Jardim Botânico\n",
            "area 70 m²\n",
            "bedroom 1\n",
            "bathroom 1\n",
            "Ligar\n",
            "Mensagem /n\n",
            "arrow_big_shadow_right\n",
            "destaque\n",
            "heart\n",
            "R$ 5.400 /mês\n",
            "condomínioR$ 1.600 IPTU R$ 602\n",
            "Rua Pio Correia, Jardim Botânico\n",
            "area 137 m²\n",
            "bedroom 3\n",
            "Ligar\n",
            "Mensagem /n\n",
            "arrow_big_shadow_right\n",
            "destaque\n",
            "heart\n",
            "R$ 4.800 /mês\n",
            "condomínioR$ 600 IPTU R$ 577\n",
            "Rua Ingles de Sousa, Jardim Botânico\n",
            "area 138 m²\n",
            "bedroom 3\n",
            "Ligar\n",
            "Mensagem /n\n",
            "arrow_big_shadow_right\n",
            "heart\n",
            "R$ 5.500 /mês\n",
            "condomínioR$ 1.360 IPTU R$ 481\n",
            "Jardim Botânico, Rio de Janeiro\n",
            "area 125 m²\n",
            "bedroom 3\n",
            "Ligar\n",
            "Mensagem /n\n",
            "arrow_big_shadow_right\n",
            "heart\n",
            "R$ 4.900 /mês\n",
            "condomínioR$ 1.400 IPTU R$ 418\n",
            "Rua Pio Correia, Jardim Botânico\n",
            "area 125 m²\n",
            "bedroom 3\n",
            "Ligar\n",
            "Mensagem /n\n",
            "arrow_big_shadow_right\n",
            "heart\n",
            "R$ 4.900 /mês\n",
            "condomínioR$ 1.220 IPTU R$ 220\n",
            "Rua Pio Correia, Jardim Botânico\n",
            "area 120 m²\n",
            "bedroom 3\n",
            "Ligar\n",
            "Mensagem /n\n",
            "arrow_big_shadow_right\n",
            "destaque\n",
            "heart\n",
            "R$ 4.200 /mês\n",
            "condomínioR$ 1.100 IPTU R$ 262\n",
            "Rua Jardim Botânico, Jardim Botânico\n",
            "area 73 m²\n",
            "bedroom 3\n",
            "parking 1\n",
            "Ligar\n",
            "Mensagem /n\n",
            "arrow_big_shadow_right\n",
            "heart\n",
            "R$ 4.900 /mês\n",
            "condomínioR$ 1.400 IPTU R$ 418\n",
            "Rua Pio Correia, Jardim Botânico\n",
            "area 125 m²\n",
            "bedroom 3\n",
            "Ligar\n",
            "Mensagem /n\n",
            "arrow_big_shadow_right\n",
            "heart\n",
            "R$ 5.400 /mês\n",
            "condomínioR$ 1.600 IPTU R$ 603\n",
            "Rua Pio Correia, Jardim Botânico\n",
            "area 137 m²\n",
            "bedroom 3\n",
            "Ligar\n",
            "Mensagem /n\n",
            "arrow_big_shadow_right\n",
            "heart\n",
            "R$ 3.900 /mês\n",
            "condomínioR$ 1.424 IPTU R$ 311\n",
            "Avenida Lineu de Paula Machado, Jardim Botânico\n",
            "area 100 m²\n",
            "bedroom 3\n",
            "Ligar\n",
            "Mensagem /n\n",
            "arrow_big_shadow_right\n",
            "heart\n",
            "R$ 5.000 /mês\n",
            "condomínioR$ 1.491 IPTU R$ 375\n",
            "Rua Pio Correia, Jardim Botânico\n",
            "area 111 m²\n",
            "bedroom 3\n",
            "Ligar\n",
            "Mensagem /n\n",
            "arrow_big_shadow_right\n",
            "heart\n",
            "R$ 4.900 /mês\n",
            "condomínioR$ 1.600 IPTU R$ 343\n",
            "Rua Pio Correia, Jardim Botânico\n",
            "area 111 m²\n",
            "bedroom 3\n",
            "Ligar\n",
            "Mensagem /n\n",
            "arrow_big_shadow_right\n",
            "destaque\n",
            "heart\n",
            "R$ 4.000 /mês\n",
            "condomínioR$ 1.969 IPTU R$ 242\n",
            "Rua Jardim Botânico, Jardim Botânico\n",
            "area 78 m²\n",
            "bedroom 3\n",
            "parking 1\n",
            "Ligar\n",
            "Mensagem /n\n",
            "arrow_big_shadow_right\n",
            "super destaque\n",
            "heart\n",
            "R$ 4.850 /mês\n",
            "condomínioR$ 1.491 IPTU R$ 343\n",
            "Rua Pio Correia, Jardim Botânico\n",
            "area 111 m²\n",
            "bedroom 3\n",
            "Ligar\n",
            "Mensagem /n\n",
            "arrow_big_shadow_right\n",
            "destaque\n",
            "heart\n",
            "R$ 3.500 /mês\n",
            "condomínioR$ 506 IPTU R$ 171\n",
            "Jardim Botânico, Rio de Janeiro\n",
            "area 58 m²\n",
            "bedroom 2\n",
            "bathroom 1\n",
            "Ligar\n",
            "Mensagem /n\n",
            "arrow_big_shadow_right\n",
            "heart\n",
            "R$ 5.500 /mês\n",
            "condomínioR$ 2.600 IPTU R$ 400\n",
            "Rua Pio Correia, Jardim Botânico\n",
            "area 78 m²\n",
            "bedroom 3\n",
            "parking 1\n",
            "Ligar\n",
            "Mensagem /n\n",
            "arrow_big_shadow_right\n",
            "heart\n",
            "R$ 3.000 /mês\n",
            "condomínioR$ 1.472 IPTU R$ 292\n",
            "Rua Maria Angélica, Jardim Botânico\n",
            "area 75 m²\n",
            "bedroom 2\n",
            "parking 1\n",
            "Ligar\n",
            "Mensagem /n\n",
            "arrow_big_shadow_right\n",
            "heart\n",
            "R$ 4.900 /mês\n",
            "condomínioR$ 1.400 IPTU R$ 418\n",
            "Rua Pio Correia, Jardim Botânico\n",
            "area 125 m²\n",
            "bedroom 3\n",
            "Ligar\n",
            "Mensagem /n\n",
            "arrow_big_shadow_right\n",
            "heart\n",
            "R$ 2.000 /mês\n",
            "condomínioR$ 666 IPTU R$ 77\n",
            "Praça Pio XI, Jardim Botânico\n",
            "area 23 m²\n",
            "bedroom 1\n",
            "bathroom 1\n",
            "Ligar\n",
            "Mensagem /n\n",
            "arrow_big_shadow_right\n",
            "heart\n",
            "R$ 4.900 /mês\n",
            "condomínioR$ 1.491 IPTU R$ 460\n",
            "Rua Pio Correia, Jardim Botânico\n",
            "area 115 m²\n",
            "bedroom 3\n",
            "Ligar\n",
            "Mensagem /n\n",
            "arrow_big_shadow_right\n",
            "destaque\n",
            "heart\n",
            "R$ 5.000 /mês\n",
            "condomínioR$ 1.732 IPTU R$ 462\n",
            "Rua Benjamim Batista, Jardim Botânico\n",
            "area 111 m²\n",
            "bedroom 3\n",
            "Ligar\n",
            "Mensagem /n\n",
            "arrow_big_shadow_right\n",
            "destaque\n",
            "heart\n",
            "R$ 4.200 /mês\n",
            "condomínioR$ 1.160 IPTU R$ 340\n",
            "Rua Conde Afonso Celso, Jardim Botânico\n",
            "area 98 m²\n",
            "bedroom 3\n",
            "bathroom 1\n",
            "Ligar\n",
            "Mensagem /n\n",
            "arrow_big_shadow_right\n",
            "heart\n",
            "R$ 3.000 /mês\n",
            "condomínioR$ 1.100 IPTU R$ 243\n",
            "Rua Jardim Botânico, Jardim Botânico\n",
            "area 63 m²\n",
            "bedroom 2\n",
            "parking 1\n",
            "Ligar\n",
            "Mensagem /n\n"
          ]
        }
      ]
    },
    {
      "cell_type": "code",
      "source": [
        "#Fazendo pagina por pagina (Pag 4)\n",
        "\n",
        "url = f'https://www.zapimoveis.com.br/aluguel/apartamentos/rj+rio-de-janeiro+zona-sul+jd-botanico/?onde=,Rio%20de%20Janeiro,Rio%20de%20Janeiro,Zona%20Sul,Jardim%20Bot%C3%A2nico,,,neighborhood,BR%3ERio%20de%20Janeiro%3ENULL%3ERio%20de%20Janeiro%3EZona%20Sul%3EJardim%20Botanico,-22.963785,-43.222283,%2Faluguel%2Fapartamentos%2Frj%2Brio-de-janeiro%2Bzona-sul%2Bjd-botanico%2F&pagina=4&tipo=Im%C3%B3vel%20usado&tipoUnidade=Residencial,Apartamento&transacao=Aluguel'\n",
        "\n",
        "#Faz requisição e resposta à página\n",
        "driver = webdriver.Chrome(chrome_options=chrome_options)\n",
        "driver.get(url)\n",
        "\n",
        "#Armazena e parseia em soup\n",
        "response = driver.page_source\n",
        "soup = BeautifulSoup(response, 'html.parser')\n",
        "\n",
        "len(driver.find_elements(By.CLASS_NAME, 'card-container'))\n",
        "\n",
        "for r in driver.find_elements(By.CLASS_NAME, 'card-container'):\n",
        "  print(r.text, '/n')"
      ],
      "metadata": {
        "colab": {
          "base_uri": "https://localhost:8080/"
        },
        "id": "srI0VFlB1Y6J",
        "outputId": "ae6bf38a-6ee8-4f77-d4ac-d9d3acecf08d"
      },
      "execution_count": null,
      "outputs": [
        {
          "output_type": "stream",
          "name": "stderr",
          "text": [
            "/usr/local/lib/python3.7/dist-packages/ipykernel_launcher.py:6: DeprecationWarning: use options instead of chrome_options\n",
            "  \n"
          ]
        },
        {
          "output_type": "stream",
          "name": "stdout",
          "text": [
            "arrow_big_shadow_right\n",
            "heart\n",
            "R$ 4.900 /mês\n",
            "condomínioR$ 1.400 IPTU R$ 418\n",
            "Rua Pio Correia, Jardim Botânico\n",
            "area 125 m²\n",
            "bedroom 3\n",
            "Ligar\n",
            "Mensagem /n\n",
            "arrow_big_shadow_right\n",
            "heart\n",
            "R$ 1.800 /mês\n",
            "condomínioR$ 500 IPTU R$ 125\n",
            "Jardim Botânico, Rio de Janeiro\n",
            "area 32 m²\n",
            "bedroom 1\n",
            "bathroom 1\n",
            "Ligar\n",
            "Mensagem /n\n",
            "arrow_big_shadow_right\n",
            "heart\n",
            "R$ 6.500 /mês\n",
            "condomínioR$ 1.776 IPTU R$ 490\n",
            "Jardim Botânico, Rio de Janeiro\n",
            "area 157 m²\n",
            "bedroom 4\n",
            "Ligar\n",
            "Mensagem /n\n",
            "arrow_big_shadow_right\n",
            "heart\n",
            "R$ 4.100 /mês\n",
            "condomínioR$ 1.293 IPTU R$ 262\n",
            "Rua Jardim Botânico, Jardim Botânico\n",
            "area 73 m²\n",
            "bedroom 3\n",
            "parking 1\n",
            "Ligar\n",
            "Mensagem /n\n",
            "arrow_big_shadow_right\n",
            "heart\n",
            "R$ 18.887 /mês\n",
            "condomínioR$ 1.848 IPTU R$ 292\n",
            "Rua Jardim Botânico, Jardim Botânico\n",
            "area 80 m²\n",
            "bedroom 2\n",
            "parking 1\n",
            "Ligar\n",
            "Mensagem /n\n",
            "arrow_big_shadow_right\n",
            "destaque\n",
            "heart\n",
            "R$ 13.000 /mês\n",
            "condomínioR$ 2.300 IPTU R$ 1.700\n",
            "Rua Benjamim Batista, Jardim Botânico\n",
            "area 325 m²\n",
            "bedroom 3\n",
            "Ligar\n",
            "Mensagem /n\n",
            "arrow_big_shadow_right\n",
            "heart\n",
            "R$ 4.500 /mês\n",
            "condomínioR$ 1.446 IPTU R$ 3.601\n",
            "Rua Lópes Quintas, Jardim Botânico\n",
            "area 105 m²\n",
            "bedroom 3\n",
            "Ligar\n",
            "Mensagem /n\n",
            "arrow_big_shadow_right\n",
            "destaque\n",
            "heart\n",
            "R$ 4.100 /mês\n",
            "condomínioR$ 1.293 IPTU R$ 218\n",
            "Rua Jardim Botânico, Jardim Botânico\n",
            "area 73 m²\n",
            "bedroom 3\n",
            "parking 1\n",
            "Ligar\n",
            "Mensagem /n\n",
            "arrow_big_shadow_right\n",
            "destaque\n",
            "heart\n",
            "R$ 4.500 /mês\n",
            "condomínioR$ 837 IPTU R$ 1\n",
            "Rua Jardim Botânico, Jardim Botânico\n",
            "area 64 m²\n",
            "bedroom 1\n",
            "bathroom 1\n",
            "Ligar\n",
            "Mensagem /n\n",
            "arrow_big_shadow_right\n",
            "super destaque\n",
            "heart\n",
            "R$ 4.800 /mês\n",
            "condomínioR$ 952 IPTU R$ 380\n",
            "Rua Benjamim Batista, Jardim Botânico\n",
            "area 109 m²\n",
            "bedroom 3\n",
            "Ligar\n",
            "Mensagem /n\n",
            "arrow_big_shadow_right\n",
            "destaque\n",
            "heart\n",
            "R$ 4.500 /mês\n",
            "condomínioR$ 1.150 IPTU R$ 380\n",
            "\n",
            "Rua Abade Ramos, Jardim Botânico\n",
            "area 100 m²\n",
            "bedroom 3\n",
            "Ligar\n",
            "Mensagem /n\n",
            "arrow_big_shadow_right\n",
            "heart\n",
            "R$ 18.887 /mês\n",
            "condomínioR$ 1.063 IPTU R$ 322\n",
            "Rua Lópes Quintas, Jardim Botânico\n",
            "area 78 m²\n",
            "bedroom 2\n",
            "parking 1\n",
            "Ligar\n",
            "Mensagem /n\n",
            "arrow_big_shadow_right\n",
            "heart\n",
            "R$ 13.000 /mês\n",
            "condomínioR$ 4.459 IPTU R$ 2.208\n",
            "Rua Corcovado, Jardim Botânico\n",
            "area 343 m²\n",
            "bedroom 4\n",
            "Ligar\n",
            "Mensagem /n\n",
            "arrow_big_shadow_right\n",
            "heart\n",
            "R$ 19.500 /mês\n",
            "condomínioR$ 2.536 IPTU R$ 1.471\n",
            "Rua Nascimento Bittencourt, Jardim Botânico\n",
            "area 280 m²\n",
            "bedroom 4\n",
            "Ligar\n",
            "Mensagem /n\n",
            "arrow_big_shadow_right\n",
            "super destaque\n",
            "heart\n",
            "R$ 13.000 /mês\n",
            "verified\n",
            "Preço abaixo do mercado\n",
            "condomínioR$ 2.300 IPTU R$ 1.719\n",
            "Rua Benjamim Batista, Jardim Botânico\n",
            "area 325 m²\n",
            "bedroom 3\n",
            "Ligar\n",
            "Mensagem /n\n",
            "arrow_big_shadow_right\n",
            "heart\n",
            "R$ 25.000 /mês\n",
            "condomínioR$ 3.400 IPTU R$ 2.095\n",
            "Jardim Botânico, Rio de Janeiro\n",
            "area 359 m²\n",
            "bedroom 4\n",
            "Ligar\n",
            "Mensagem /n\n",
            "arrow_big_shadow_right\n",
            "heart\n",
            "R$ 25.000 /mês\n",
            "condomínioR$ 3.200 IPTU R$ 19.000\n",
            "Jardim Botânico, Rio de Janeiro\n",
            "area 359 m²\n",
            "bedroom 4\n",
            "Ligar\n",
            "Mensagem /n\n"
          ]
        }
      ]
    },
    {
      "cell_type": "markdown",
      "source": [
        "### Tratamento das listas"
      ],
      "metadata": {
        "id": "tZFHGCy8iHVf"
      }
    },
    {
      "cell_type": "code",
      "source": [
        "list_titulo = [l.replace ('  ', '') for l in list_titulo]"
      ],
      "metadata": {
        "id": "M7OTPdQaeiaD"
      },
      "execution_count": null,
      "outputs": []
    },
    {
      "cell_type": "code",
      "source": [
        "list_titulo"
      ],
      "metadata": {
        "id": "wj0RqulunuqR",
        "colab": {
          "base_uri": "https://localhost:8080/"
        },
        "outputId": "ea87ec7a-a807-4ea9-e4f6-88c7a5b4b766"
      },
      "execution_count": null,
      "outputs": [
        {
          "output_type": "execute_result",
          "data": {
            "text/plain": [
              "['Apartamento com 3 Quartos para Aluguel, 100m²',\n",
              " 'Apartamento com 2 Quartos para Aluguel, 75m²',\n",
              " 'Apartamento com 3 Quartos para Aluguel, 93m²',\n",
              " 'Apartamento com 2 Quartos para Aluguel, 79m²',\n",
              " 'Apartamento com 3 Quartos para Aluguel, 78m²',\n",
              " 'Apartamento com 3 Quartos para Aluguel, 100m²',\n",
              " 'Apartamento com 3 Quartos para Aluguel, 78m²',\n",
              " 'Apartamento com 3 Quartos para Aluguel, 73m²',\n",
              " 'Apartamento com 3 Quartos para Aluguel, 91m²',\n",
              " 'Apartamento com 3 Quartos para Aluguel, 98m²',\n",
              " 'Apartamento com 2 Quartos para Venda/Aluguel 58m²',\n",
              " 'Apartamento com 3 Quartos à Venda/Aluguel 109m²',\n",
              " 'Apartamento com 4 Quartos para Aluguel, 280m²',\n",
              " 'Apartamento com 2 Quartos para Aluguel, 90m²',\n",
              " 'Apartamento com 3 Quartos para Aluguel, 325m²',\n",
              " 'Apartamento com 3 Quartos para Aluguel, 118m²',\n",
              " 'Apartamento com 2 Quartos para Venda/Aluguel 63m²',\n",
              " 'Apartamento comQuarto para Aluguel, 64m²',\n",
              " 'Apartamento comQuarto para Aluguel, 48m²',\n",
              " 'Apartamento com 3 Quartos para Venda/Aluguel 111m²',\n",
              " 'Apartamento com 3 Quartos para Aluguel, 325m²',\n",
              " 'Apartamento com 3 Quartos para Aluguel, 100m²',\n",
              " 'Apartamento com 3 Quartos para Aluguel, 138m²',\n",
              " 'Apartamento com 2 Quartos para Aluguel, 63m²',\n",
              " 'Apartamento com 4 Quartos para Aluguel, 343m²',\n",
              " 'Apartamento com 2 Quartos para Aluguel, 85m²',\n",
              " 'Apartamento com 3 Quartos para Aluguel, 73m²',\n",
              " 'Apartamento com 3 Quartos para Aluguel, 103m²',\n",
              " 'Apartamento comQuarto para Aluguel, 56m²',\n",
              " 'Apartamento comQuarto para Aluguel, 70m²',\n",
              " 'Apartamento com 3 Quartos para Aluguel, 120m²',\n",
              " 'Apartamento comQuarto para Aluguel, 73m²',\n",
              " 'Apartamento com 3 Quartos para Aluguel, 105m²',\n",
              " 'Apartamento com 2 Quartos para Aluguel, 117m²',\n",
              " 'Apartamento com 3 Quartos para Aluguel, 93m²',\n",
              " 'Apartamento com 3 Quartos para Aluguel, 100m²',\n",
              " 'Apartamento com 3 Quartos para Aluguel, 100m²',\n",
              " 'Apartamento com 2 Quartos para Aluguel, 75m²',\n",
              " 'Apartamento com 3 Quartos para Aluguel, 93m²',\n",
              " 'Apartamento com 2 Quartos para Aluguel, 79m²',\n",
              " 'Apartamento com 3 Quartos para Aluguel, 78m²',\n",
              " 'Apartamento com 3 Quartos para Aluguel, 100m²',\n",
              " 'Apartamento com 3 Quartos para Aluguel, 78m²',\n",
              " 'Apartamento com 3 Quartos para Aluguel, 73m²',\n",
              " 'Apartamento com 3 Quartos para Aluguel, 91m²',\n",
              " 'Apartamento com 3 Quartos para Aluguel, 98m²',\n",
              " 'Apartamento com 2 Quartos para Venda/Aluguel 58m²',\n",
              " 'Apartamento com 3 Quartos à Venda/Aluguel 109m²',\n",
              " 'Apartamento com 4 Quartos para Aluguel, 280m²',\n",
              " 'Apartamento com 2 Quartos para Aluguel, 90m²',\n",
              " 'Apartamento com 3 Quartos para Aluguel, 325m²',\n",
              " 'Apartamento com 3 Quartos para Aluguel, 118m²',\n",
              " 'Apartamento com 2 Quartos para Venda/Aluguel 63m²',\n",
              " 'Apartamento comQuarto para Aluguel, 64m²',\n",
              " 'Apartamento comQuarto para Aluguel, 48m²',\n",
              " 'Apartamento com 3 Quartos para Venda/Aluguel 111m²',\n",
              " 'Apartamento com 3 Quartos para Aluguel, 325m²',\n",
              " 'Apartamento com 3 Quartos para Aluguel, 100m²',\n",
              " 'Apartamento com 3 Quartos para Aluguel, 138m²',\n",
              " 'Apartamento com 2 Quartos para Aluguel, 63m²',\n",
              " 'Apartamento com 4 Quartos para Aluguel, 343m²',\n",
              " 'Apartamento com 3 Quartos para Aluguel, 136m²',\n",
              " 'Apartamento com 2 Quartos para Aluguel, 85m²',\n",
              " 'Apartamento com 3 Quartos para Aluguel, 73m²',\n",
              " 'Apartamento com 3 Quartos para Aluguel, 103m²',\n",
              " 'Apartamento comQuarto para Aluguel, 56m²',\n",
              " 'Apartamento comQuarto para Aluguel, 70m²',\n",
              " 'Apartamento com 3 Quartos para Aluguel, 120m²',\n",
              " 'Apartamento comQuarto para Aluguel, 73m²',\n",
              " 'Apartamento com 3 Quartos para Aluguel, 105m²',\n",
              " 'Apartamento com 2 Quartos para Aluguel, 117m²',\n",
              " 'Apartamento com 3 Quartos para Aluguel, 93m²',\n",
              " 'Apartamento com 3 Quartos para Aluguel, 100m²',\n",
              " 'Apartamento com 2 Quartos para Aluguel, 75m²',\n",
              " 'Apartamento com 3 Quartos para Aluguel, 93m²',\n",
              " 'Apartamento com 2 Quartos para Aluguel, 79m²',\n",
              " 'Apartamento com 3 Quartos para Aluguel, 78m²',\n",
              " 'Apartamento com 3 Quartos para Aluguel, 100m²',\n",
              " 'Apartamento com 3 Quartos para Aluguel, 78m²',\n",
              " 'Apartamento com 3 Quartos para Aluguel, 73m²',\n",
              " 'Apartamento com 3 Quartos para Aluguel, 91m²',\n",
              " 'Apartamento com 3 Quartos para Aluguel, 98m²',\n",
              " 'Apartamento com 2 Quartos para Venda/Aluguel 58m²',\n",
              " 'Apartamento com 3 Quartos à Venda/Aluguel 109m²',\n",
              " 'Apartamento com 4 Quartos para Aluguel, 280m²',\n",
              " 'Apartamento com 2 Quartos para Aluguel, 90m²',\n",
              " 'Apartamento com 3 Quartos para Aluguel, 325m²',\n",
              " 'Apartamento com 3 Quartos para Aluguel, 118m²',\n",
              " 'Apartamento com 2 Quartos para Venda/Aluguel 63m²',\n",
              " 'Apartamento comQuarto para Aluguel, 64m²',\n",
              " 'Apartamento comQuarto para Aluguel, 48m²',\n",
              " 'Apartamento com 3 Quartos para Venda/Aluguel 111m²',\n",
              " 'Apartamento com 3 Quartos para Aluguel, 325m²',\n",
              " 'Apartamento com 3 Quartos para Aluguel, 100m²',\n",
              " 'Apartamento com 3 Quartos para Aluguel, 138m²',\n",
              " 'Apartamento com 2 Quartos para Aluguel, 63m²',\n",
              " 'Apartamento com 4 Quartos para Aluguel, 343m²',\n",
              " 'Apartamento com 2 Quartos para Aluguel, 85m²',\n",
              " 'Apartamento com 3 Quartos para Aluguel, 73m²',\n",
              " 'Apartamento com 3 Quartos para Aluguel, 103m²',\n",
              " 'Apartamento comQuarto para Aluguel, 56m²',\n",
              " 'Apartamento comQuarto para Aluguel, 70m²',\n",
              " 'Apartamento com 3 Quartos para Aluguel, 120m²',\n",
              " 'Apartamento comQuarto para Aluguel, 73m²',\n",
              " 'Apartamento com 3 Quartos para Aluguel, 105m²',\n",
              " 'Apartamento com 2 Quartos para Aluguel, 117m²',\n",
              " 'Apartamento com 3 Quartos para Aluguel, 93m²',\n",
              " 'Apartamento com 3 Quartos para Aluguel, 100m²']"
            ]
          },
          "metadata": {},
          "execution_count": 76
        }
      ]
    },
    {
      "cell_type": "code",
      "source": [
        "list_endereco = [l.split('-')[0] for l in list_endereco]"
      ],
      "metadata": {
        "id": "jNHiT1XHj0wB"
      },
      "execution_count": null,
      "outputs": []
    },
    {
      "cell_type": "code",
      "source": [
        "list_endereco"
      ],
      "metadata": {
        "id": "7w06BB6kmUdx",
        "colab": {
          "base_uri": "https://localhost:8080/"
        },
        "outputId": "757a96f7-cd8f-480f-b8d1-c1825ca09288"
      },
      "execution_count": null,
      "outputs": [
        {
          "output_type": "execute_result",
          "data": {
            "text/plain": [
              "[' Avenida Lineu de Paula Machado, 826 ',\n",
              " ' Rua Faro, 51 ',\n",
              " ' Rua Peri ',\n",
              " ' Rua Pio Correia, 92 ',\n",
              " ' Rua Von Martius ',\n",
              " ' Rua Abade Ramos ',\n",
              " ' Rua Pio Correia ',\n",
              " ' Rua Jardim Botânico ',\n",
              " ' Avenida Lineu de Paula Machado ',\n",
              " ' Rua Conde Afonso Celso, 89 ',\n",
              " ' Jardim Botânico, Rio de Janeiro ',\n",
              " ' Rua Benjamim Batista ',\n",
              " ' Rua Nascimento Bittencourt ',\n",
              " ' Rua Jardim Botânico, 227 ',\n",
              " ' Rua Benjamim Batista ',\n",
              " ' Rua Jardim Botânico ',\n",
              " ' Rua Jardim Botânico ',\n",
              " ' Rua Jardim Botânico, 667 ',\n",
              " ' Jardim Botânico, Rio de Janeiro ',\n",
              " ' Rua Benjamim Batista ',\n",
              " ' Rua Benjamim Batista ',\n",
              " ' Avenida Lineu de Paula Machado ',\n",
              " ' Rua Ingles de Sousa, 193 ',\n",
              " ' Rua Senador Simonsen, 12 ',\n",
              " ' Rua Corcovado ',\n",
              " ' Rua Lópes Quintas, 74 ',\n",
              " ' Rua Jardim Botânico ',\n",
              " ' Rua Visconde da Graça, 96 ',\n",
              " ' Jardim Botânico, Rio de Janeiro ',\n",
              " ' Rua Faro ',\n",
              " ' Avenida Lineu de Paula Machado, 1000 ',\n",
              " ' Jardim Botânico, Rio de Janeiro ',\n",
              " ' Rua Lópes Quintas ',\n",
              " ' Rua Jardim Botânico, 728 ',\n",
              " ' Rua Visconde da Graça ',\n",
              " ' Rua Conde Afonso Celso ',\n",
              " ' Avenida Lineu de Paula Machado, 826 ',\n",
              " ' Rua Faro, 51 ',\n",
              " ' Rua Peri ',\n",
              " ' Rua Pio Correia, 92 ',\n",
              " ' Rua Von Martius ',\n",
              " ' Rua Abade Ramos ',\n",
              " ' Rua Pio Correia ',\n",
              " ' Rua Jardim Botânico ',\n",
              " ' Avenida Lineu de Paula Machado ',\n",
              " ' Rua Conde Afonso Celso, 89 ',\n",
              " ' Jardim Botânico, Rio de Janeiro ',\n",
              " ' Rua Benjamim Batista ',\n",
              " ' Rua Nascimento Bittencourt ',\n",
              " ' Rua Jardim Botânico, 227 ',\n",
              " ' Rua Benjamim Batista ',\n",
              " ' Rua Jardim Botânico ',\n",
              " ' Rua Jardim Botânico ',\n",
              " ' Rua Jardim Botânico, 667 ',\n",
              " ' Jardim Botânico, Rio de Janeiro ',\n",
              " ' Rua Benjamim Batista ',\n",
              " ' Rua Benjamim Batista ',\n",
              " ' Avenida Lineu de Paula Machado ',\n",
              " ' Rua Ingles de Sousa, 193 ',\n",
              " ' Rua Senador Simonsen, 12 ',\n",
              " ' Rua Corcovado ',\n",
              " ' Rua Pio Correia ',\n",
              " ' Rua Lópes Quintas, 74 ',\n",
              " ' Rua Jardim Botânico ',\n",
              " ' Rua Visconde da Graça, 96 ',\n",
              " ' Jardim Botânico, Rio de Janeiro ',\n",
              " ' Rua Faro ',\n",
              " ' Avenida Lineu de Paula Machado, 1000 ',\n",
              " ' Jardim Botânico, Rio de Janeiro ',\n",
              " ' Rua Lópes Quintas ',\n",
              " ' Rua Jardim Botânico, 728 ',\n",
              " ' Rua Visconde da Graça ',\n",
              " ' Avenida Lineu de Paula Machado, 826 ',\n",
              " ' Rua Faro, 51 ',\n",
              " ' Rua Peri ',\n",
              " ' Rua Pio Correia, 92 ',\n",
              " ' Rua Von Martius ',\n",
              " ' Rua Abade Ramos ',\n",
              " ' Rua Pio Correia ',\n",
              " ' Rua Jardim Botânico ',\n",
              " ' Avenida Lineu de Paula Machado ',\n",
              " ' Rua Conde Afonso Celso, 89 ',\n",
              " ' Jardim Botânico, Rio de Janeiro ',\n",
              " ' Rua Benjamim Batista ',\n",
              " ' Rua Nascimento Bittencourt ',\n",
              " ' Rua Jardim Botânico, 227 ',\n",
              " ' Rua Benjamim Batista ',\n",
              " ' Rua Jardim Botânico ',\n",
              " ' Rua Jardim Botânico ',\n",
              " ' Rua Jardim Botânico, 667 ',\n",
              " ' Jardim Botânico, Rio de Janeiro ',\n",
              " ' Rua Benjamim Batista ',\n",
              " ' Rua Benjamim Batista ',\n",
              " ' Avenida Lineu de Paula Machado ',\n",
              " ' Rua Ingles de Sousa, 193 ',\n",
              " ' Rua Senador Simonsen, 12 ',\n",
              " ' Rua Corcovado ',\n",
              " ' Rua Lópes Quintas, 74 ',\n",
              " ' Rua Jardim Botânico ',\n",
              " ' Rua Visconde da Graça, 96 ',\n",
              " ' Jardim Botânico, Rio de Janeiro ',\n",
              " ' Rua Faro ',\n",
              " ' Avenida Lineu de Paula Machado, 1000 ',\n",
              " ' Jardim Botânico, Rio de Janeiro ',\n",
              " ' Rua Lópes Quintas ',\n",
              " ' Rua Jardim Botânico, 728 ',\n",
              " ' Rua Visconde da Graça ',\n",
              " ' Rua Conde Afonso Celso ']"
            ]
          },
          "metadata": {},
          "execution_count": 78
        }
      ]
    },
    {
      "cell_type": "code",
      "source": [
        "list_area = [l.replace (' ', '') for l in list_area]"
      ],
      "metadata": {
        "id": "W-20AZoIok_L"
      },
      "execution_count": null,
      "outputs": []
    },
    {
      "cell_type": "code",
      "source": [
        "list_area = [float(l) for l in list_area]"
      ],
      "metadata": {
        "id": "wpVBs9oxox8E"
      },
      "execution_count": null,
      "outputs": []
    },
    {
      "cell_type": "code",
      "source": [
        "list_quartos = [l.replace ('  ', '') for l in list_quartos]"
      ],
      "metadata": {
        "id": "gZafKZHIo15C"
      },
      "execution_count": null,
      "outputs": []
    },
    {
      "cell_type": "code",
      "source": [
        "list_quartos = [int(l.split(\"Q\")[0]) for l in list_quartos]"
      ],
      "metadata": {
        "id": "nnblwmuuzETy"
      },
      "execution_count": null,
      "outputs": []
    },
    {
      "cell_type": "code",
      "source": [
        "list_quartos"
      ],
      "metadata": {
        "id": "wUoFX0HwzYG6",
        "colab": {
          "base_uri": "https://localhost:8080/"
        },
        "outputId": "9357da28-5981-4bdd-ae05-e9014c18688b"
      },
      "execution_count": null,
      "outputs": [
        {
          "output_type": "execute_result",
          "data": {
            "text/plain": [
              "[3,\n",
              " 2,\n",
              " 3,\n",
              " 2,\n",
              " 3,\n",
              " 3,\n",
              " 3,\n",
              " 3,\n",
              " 3,\n",
              " 3,\n",
              " 2,\n",
              " 3,\n",
              " 4,\n",
              " 2,\n",
              " 3,\n",
              " 3,\n",
              " 2,\n",
              " 1,\n",
              " 1,\n",
              " 3,\n",
              " 3,\n",
              " 3,\n",
              " 3,\n",
              " 2,\n",
              " 4,\n",
              " 2,\n",
              " 3,\n",
              " 3,\n",
              " 1,\n",
              " 1,\n",
              " 3,\n",
              " 1,\n",
              " 3,\n",
              " 2,\n",
              " 3,\n",
              " 3,\n",
              " 3,\n",
              " 2,\n",
              " 3,\n",
              " 2,\n",
              " 3,\n",
              " 3,\n",
              " 3,\n",
              " 3,\n",
              " 3,\n",
              " 3,\n",
              " 2,\n",
              " 3,\n",
              " 4,\n",
              " 2,\n",
              " 3,\n",
              " 3,\n",
              " 2,\n",
              " 1,\n",
              " 1,\n",
              " 3,\n",
              " 3,\n",
              " 3,\n",
              " 3,\n",
              " 2,\n",
              " 4,\n",
              " 3,\n",
              " 2,\n",
              " 3,\n",
              " 3,\n",
              " 1,\n",
              " 1,\n",
              " 3,\n",
              " 1,\n",
              " 3,\n",
              " 2,\n",
              " 3,\n",
              " 3,\n",
              " 2,\n",
              " 3,\n",
              " 2,\n",
              " 3,\n",
              " 3,\n",
              " 3,\n",
              " 3,\n",
              " 3,\n",
              " 3,\n",
              " 2,\n",
              " 3,\n",
              " 4,\n",
              " 2,\n",
              " 3,\n",
              " 3,\n",
              " 2,\n",
              " 1,\n",
              " 1,\n",
              " 3,\n",
              " 3,\n",
              " 3,\n",
              " 3,\n",
              " 2,\n",
              " 4,\n",
              " 2,\n",
              " 3,\n",
              " 3,\n",
              " 1,\n",
              " 1,\n",
              " 3,\n",
              " 1,\n",
              " 3,\n",
              " 2,\n",
              " 3,\n",
              " 3]"
            ]
          },
          "metadata": {},
          "execution_count": 83
        }
      ]
    },
    {
      "cell_type": "code",
      "source": [
        "list_banheiros = [l.replace ('  ', '') for l in list_banheiros]"
      ],
      "metadata": {
        "id": "wMjR_VzfsBqU"
      },
      "execution_count": null,
      "outputs": []
    },
    {
      "cell_type": "code",
      "source": [
        "list_banheiros = [int(l.split(\" \")[0]) for l in list_banheiros]"
      ],
      "metadata": {
        "id": "HI_hqFnRsKJW"
      },
      "execution_count": null,
      "outputs": []
    },
    {
      "cell_type": "code",
      "source": [
        "list_banheiros"
      ],
      "metadata": {
        "id": "V78qq2Fw0GKV",
        "colab": {
          "base_uri": "https://localhost:8080/"
        },
        "outputId": "01f40ff3-470e-456e-d7bf-940118788aea"
      },
      "execution_count": null,
      "outputs": [
        {
          "output_type": "execute_result",
          "data": {
            "text/plain": [
              "[2,\n",
              " 3,\n",
              " 2,\n",
              " 2,\n",
              " 2,\n",
              " 2,\n",
              " 2,\n",
              " 3,\n",
              " 3,\n",
              " 1,\n",
              " 1,\n",
              " 2,\n",
              " 4,\n",
              " 2,\n",
              " 3,\n",
              " 2,\n",
              " 3,\n",
              " 1,\n",
              " 1,\n",
              " 2,\n",
              " 3,\n",
              " 3,\n",
              " 3,\n",
              " 2,\n",
              " 5,\n",
              " 2,\n",
              " 2,\n",
              " 2,\n",
              " 1,\n",
              " 1,\n",
              " 3,\n",
              " 1,\n",
              " 2,\n",
              " 1,\n",
              " 2,\n",
              " 3,\n",
              " 2,\n",
              " 3,\n",
              " 2,\n",
              " 2,\n",
              " 2,\n",
              " 2,\n",
              " 2,\n",
              " 3,\n",
              " 3,\n",
              " 1,\n",
              " 1,\n",
              " 2,\n",
              " 4,\n",
              " 2,\n",
              " 3,\n",
              " 2,\n",
              " 3,\n",
              " 1,\n",
              " 1,\n",
              " 2,\n",
              " 3,\n",
              " 3,\n",
              " 3,\n",
              " 2,\n",
              " 5,\n",
              " 3,\n",
              " 2,\n",
              " 2,\n",
              " 2,\n",
              " 1,\n",
              " 1,\n",
              " 3,\n",
              " 1,\n",
              " 2,\n",
              " 1,\n",
              " 2,\n",
              " 2,\n",
              " 3,\n",
              " 2,\n",
              " 2,\n",
              " 2,\n",
              " 2,\n",
              " 2,\n",
              " 3,\n",
              " 3,\n",
              " 1,\n",
              " 1,\n",
              " 2,\n",
              " 4,\n",
              " 2,\n",
              " 3,\n",
              " 2,\n",
              " 3,\n",
              " 1,\n",
              " 1,\n",
              " 2,\n",
              " 3,\n",
              " 3,\n",
              " 3,\n",
              " 2,\n",
              " 5,\n",
              " 2,\n",
              " 2,\n",
              " 2,\n",
              " 1,\n",
              " 1,\n",
              " 3,\n",
              " 1,\n",
              " 2,\n",
              " 1,\n",
              " 2,\n",
              " 3]"
            ]
          },
          "metadata": {},
          "execution_count": 86
        }
      ]
    },
    {
      "cell_type": "code",
      "source": [
        "list_garagem = [l.replace ('  ', '') for l in list_garagem]"
      ],
      "metadata": {
        "id": "d17SVp_0sPJj"
      },
      "execution_count": null,
      "outputs": []
    },
    {
      "cell_type": "code",
      "source": [
        "list_garagem = [int(l.split(' ')[0]) if l != '-- Vaga' else 0 for l in list_garagem]"
      ],
      "metadata": {
        "id": "XUnIkgRZsVM7"
      },
      "execution_count": null,
      "outputs": []
    },
    {
      "cell_type": "code",
      "source": [
        "list_garagem"
      ],
      "metadata": {
        "id": "zj9qbkP00bLB",
        "colab": {
          "base_uri": "https://localhost:8080/"
        },
        "outputId": "0db6a935-06a7-4520-fb96-63319fb47568"
      },
      "execution_count": null,
      "outputs": [
        {
          "output_type": "execute_result",
          "data": {
            "text/plain": [
              "[1,\n",
              " 1,\n",
              " 1,\n",
              " 1,\n",
              " 0,\n",
              " 0,\n",
              " 1,\n",
              " 1,\n",
              " 1,\n",
              " 0,\n",
              " 0,\n",
              " 0,\n",
              " 2,\n",
              " 1,\n",
              " 2,\n",
              " 1,\n",
              " 1,\n",
              " 0,\n",
              " 1,\n",
              " 1,\n",
              " 3,\n",
              " 1,\n",
              " 1,\n",
              " 1,\n",
              " 3,\n",
              " 1,\n",
              " 1,\n",
              " 1,\n",
              " 0,\n",
              " 0,\n",
              " 2,\n",
              " 1,\n",
              " 1,\n",
              " 0,\n",
              " 1,\n",
              " 1,\n",
              " 1,\n",
              " 1,\n",
              " 1,\n",
              " 1,\n",
              " 0,\n",
              " 0,\n",
              " 1,\n",
              " 1,\n",
              " 1,\n",
              " 0,\n",
              " 0,\n",
              " 0,\n",
              " 2,\n",
              " 1,\n",
              " 2,\n",
              " 1,\n",
              " 1,\n",
              " 0,\n",
              " 1,\n",
              " 1,\n",
              " 3,\n",
              " 1,\n",
              " 1,\n",
              " 1,\n",
              " 3,\n",
              " 2,\n",
              " 1,\n",
              " 1,\n",
              " 1,\n",
              " 0,\n",
              " 0,\n",
              " 2,\n",
              " 1,\n",
              " 1,\n",
              " 0,\n",
              " 1,\n",
              " 1,\n",
              " 1,\n",
              " 1,\n",
              " 1,\n",
              " 0,\n",
              " 0,\n",
              " 1,\n",
              " 1,\n",
              " 1,\n",
              " 0,\n",
              " 0,\n",
              " 0,\n",
              " 2,\n",
              " 1,\n",
              " 2,\n",
              " 1,\n",
              " 1,\n",
              " 0,\n",
              " 1,\n",
              " 1,\n",
              " 3,\n",
              " 1,\n",
              " 1,\n",
              " 1,\n",
              " 3,\n",
              " 1,\n",
              " 1,\n",
              " 1,\n",
              " 0,\n",
              " 0,\n",
              " 2,\n",
              " 1,\n",
              " 1,\n",
              " 0,\n",
              " 1,\n",
              " 1]"
            ]
          },
          "metadata": {},
          "execution_count": 89
        }
      ]
    },
    {
      "cell_type": "code",
      "source": [
        "list_preco = [l.replace ('  ', '') for l in list_preco]"
      ],
      "metadata": {
        "id": "6W0vE08wsZKs"
      },
      "execution_count": null,
      "outputs": []
    },
    {
      "cell_type": "code",
      "source": [
        "list_preco = [float(l.split(' ')[1].replace('.',''))for l in list_preco]"
      ],
      "metadata": {
        "id": "hfabuqiKsZ72"
      },
      "execution_count": null,
      "outputs": []
    },
    {
      "cell_type": "code",
      "source": [
        "list_preco"
      ],
      "metadata": {
        "id": "tBHSozL70x4g",
        "colab": {
          "base_uri": "https://localhost:8080/"
        },
        "outputId": "97d9c619-7826-4274-e1cb-b5462efa9fc5"
      },
      "execution_count": null,
      "outputs": [
        {
          "output_type": "execute_result",
          "data": {
            "text/plain": [
              "[3900.0,\n",
              " 4000.0,\n",
              " 4500.0,\n",
              " 2800.0,\n",
              " 2500.0,\n",
              " 4500.0,\n",
              " 5500.0,\n",
              " 4100.0,\n",
              " 4300.0,\n",
              " 4200.0,\n",
              " 3500.0,\n",
              " 4800.0,\n",
              " 19500.0,\n",
              " 2500.0,\n",
              " 13000.0,\n",
              " 3600.0,\n",
              " 3000.0,\n",
              " 4500.0,\n",
              " 2680.0,\n",
              " 5000.0,\n",
              " 13000.0,\n",
              " 3900.0,\n",
              " 4800.0,\n",
              " 3000.0,\n",
              " 13000.0,\n",
              " 4300.0,\n",
              " 4200.0,\n",
              " 5300.0,\n",
              " 4200.0,\n",
              " 3100.0,\n",
              " 7500.0,\n",
              " 3800.0,\n",
              " 4500.0,\n",
              " 4000.0,\n",
              " 4800.0,\n",
              " 5500.0,\n",
              " 3900.0,\n",
              " 4000.0,\n",
              " 4500.0,\n",
              " 2800.0,\n",
              " 2500.0,\n",
              " 4500.0,\n",
              " 5500.0,\n",
              " 4100.0,\n",
              " 4300.0,\n",
              " 4200.0,\n",
              " 3500.0,\n",
              " 4800.0,\n",
              " 19500.0,\n",
              " 2500.0,\n",
              " 13000.0,\n",
              " 3600.0,\n",
              " 3000.0,\n",
              " 4500.0,\n",
              " 2680.0,\n",
              " 5000.0,\n",
              " 13000.0,\n",
              " 3900.0,\n",
              " 4800.0,\n",
              " 3000.0,\n",
              " 13000.0,\n",
              " 5400.0,\n",
              " 4300.0,\n",
              " 4200.0,\n",
              " 5300.0,\n",
              " 4200.0,\n",
              " 3100.0,\n",
              " 7500.0,\n",
              " 3800.0,\n",
              " 4500.0,\n",
              " 4000.0,\n",
              " 4800.0,\n",
              " 3900.0,\n",
              " 4000.0,\n",
              " 4500.0,\n",
              " 2800.0,\n",
              " 2500.0,\n",
              " 4500.0,\n",
              " 5500.0,\n",
              " 4100.0,\n",
              " 4300.0,\n",
              " 4200.0,\n",
              " 3500.0,\n",
              " 4800.0,\n",
              " 19500.0,\n",
              " 2500.0,\n",
              " 13000.0,\n",
              " 3600.0,\n",
              " 3000.0,\n",
              " 4500.0,\n",
              " 2680.0,\n",
              " 5000.0,\n",
              " 13000.0,\n",
              " 3900.0,\n",
              " 4800.0,\n",
              " 3000.0,\n",
              " 13000.0,\n",
              " 4300.0,\n",
              " 4200.0,\n",
              " 5300.0,\n",
              " 4200.0,\n",
              " 3100.0,\n",
              " 7500.0,\n",
              " 3800.0,\n",
              " 4500.0,\n",
              " 4000.0,\n",
              " 4800.0,\n",
              " 5500.0]"
            ]
          },
          "metadata": {},
          "execution_count": 92
        }
      ]
    },
    {
      "cell_type": "code",
      "source": [
        "list_condominio = [l.replace (' Condomínio:   ', '') for l in list_condominio]"
      ],
      "metadata": {
        "id": "0I6RJyf_spcr"
      },
      "execution_count": null,
      "outputs": []
    },
    {
      "cell_type": "code",
      "source": [
        "list_condominio =  [l.replace ('   ', '') for l in list_condominio]"
      ],
      "metadata": {
        "id": "VrFY8kJSstEF"
      },
      "execution_count": null,
      "outputs": []
    },
    {
      "cell_type": "code",
      "source": [
        "list_condominio = [float(l.split(' ')[1].replace('.', '')) for l in list_condominio]"
      ],
      "metadata": {
        "id": "0C1M9xL_s_Wz"
      },
      "execution_count": null,
      "outputs": []
    },
    {
      "cell_type": "code",
      "source": [
        "list_condominio"
      ],
      "metadata": {
        "id": "CqCNzdLMvnaO",
        "colab": {
          "base_uri": "https://localhost:8080/"
        },
        "outputId": "78d7babd-11f8-43a5-ae59-31a75e39d934"
      },
      "execution_count": null,
      "outputs": [
        {
          "output_type": "execute_result",
          "data": {
            "text/plain": [
              "[1424.0,\n",
              " 1188.0,\n",
              " 1216.0,\n",
              " 1536.0,\n",
              " 953.0,\n",
              " 1150.0,\n",
              " 730.0,\n",
              " 1293.0,\n",
              " 1200.0,\n",
              " 1160.0,\n",
              " 506.0,\n",
              " 952.0,\n",
              " 2536.0,\n",
              " 1170.0,\n",
              " 2300.0,\n",
              " 1005.0,\n",
              " 1100.0,\n",
              " 837.0,\n",
              " 941.0,\n",
              " 1732.0,\n",
              " 2300.0,\n",
              " 1424.0,\n",
              " 600.0,\n",
              " 459.0,\n",
              " 4459.0,\n",
              " 832.0,\n",
              " 1100.0,\n",
              " 1400.0,\n",
              " 300.0,\n",
              " 1330.0,\n",
              " 1827.0,\n",
              " 1097.0,\n",
              " 1446.0,\n",
              " 651.0,\n",
              " 1250.0,\n",
              " 1500.0,\n",
              " 1424.0,\n",
              " 1188.0,\n",
              " 1216.0,\n",
              " 1536.0,\n",
              " 953.0,\n",
              " 1150.0,\n",
              " 730.0,\n",
              " 1293.0,\n",
              " 1200.0,\n",
              " 1160.0,\n",
              " 506.0,\n",
              " 952.0,\n",
              " 2536.0,\n",
              " 1170.0,\n",
              " 2300.0,\n",
              " 1005.0,\n",
              " 1100.0,\n",
              " 837.0,\n",
              " 941.0,\n",
              " 1732.0,\n",
              " 2300.0,\n",
              " 1424.0,\n",
              " 600.0,\n",
              " 459.0,\n",
              " 4459.0,\n",
              " 1600.0,\n",
              " 832.0,\n",
              " 1100.0,\n",
              " 1400.0,\n",
              " 300.0,\n",
              " 1330.0,\n",
              " 1827.0,\n",
              " 1097.0,\n",
              " 1446.0,\n",
              " 651.0,\n",
              " 1250.0,\n",
              " 1424.0,\n",
              " 1188.0,\n",
              " 1216.0,\n",
              " 1536.0,\n",
              " 953.0,\n",
              " 1150.0,\n",
              " 730.0,\n",
              " 1293.0,\n",
              " 1200.0,\n",
              " 1160.0,\n",
              " 506.0,\n",
              " 952.0,\n",
              " 2536.0,\n",
              " 1170.0,\n",
              " 2300.0,\n",
              " 1005.0,\n",
              " 1100.0,\n",
              " 837.0,\n",
              " 941.0,\n",
              " 1732.0,\n",
              " 2300.0,\n",
              " 1424.0,\n",
              " 600.0,\n",
              " 459.0,\n",
              " 4459.0,\n",
              " 832.0,\n",
              " 1100.0,\n",
              " 1400.0,\n",
              " 300.0,\n",
              " 1330.0,\n",
              " 1827.0,\n",
              " 1097.0,\n",
              " 1446.0,\n",
              " 651.0,\n",
              " 1250.0,\n",
              " 1500.0]"
            ]
          },
          "metadata": {},
          "execution_count": 96
        }
      ]
    },
    {
      "cell_type": "markdown",
      "source": [
        "### Construindo dataset"
      ],
      "metadata": {
        "id": "RdARoDQuvqk_"
      }
    },
    {
      "cell_type": "code",
      "source": [
        "df = pd.DataFrame({'Titulo': list_titulo,\n",
        "                        'Endereco': list_endereco,\n",
        "                        'Area': list_area,\n",
        "                        'Quartos': list_quartos,\n",
        "                        'Banheiros': list_banheiros,\n",
        "                        'Vagas': list_garagem,\n",
        "                        'Preco': list_preco,\n",
        "                        'Condomínio': list_condominio})"
      ],
      "metadata": {
        "id": "LAhttVk2vnTu"
      },
      "execution_count": null,
      "outputs": []
    },
    {
      "cell_type": "code",
      "source": [
        "df['Valor Total'] = df['Preco'] + df['Condomínio']"
      ],
      "metadata": {
        "id": "-apwRrm8107K"
      },
      "execution_count": null,
      "outputs": []
    },
    {
      "cell_type": "code",
      "source": [
        "df['Valor M2'] = df['Valor Total'] / df['Area']"
      ],
      "metadata": {
        "id": "pbSLhWeQli3k"
      },
      "execution_count": null,
      "outputs": []
    },
    {
      "cell_type": "code",
      "source": [
        "df.head()"
      ],
      "metadata": {
        "colab": {
          "base_uri": "https://localhost:8080/",
          "height": 206
        },
        "id": "MY9WKlqb1yju",
        "outputId": "cfe6f892-a698-4ecc-bcd2-3aa1258ae983"
      },
      "execution_count": null,
      "outputs": [
        {
          "output_type": "execute_result",
          "data": {
            "text/plain": [
              "                                          Titulo  \\\n",
              "0  Apartamento com 3 Quartos para Aluguel, 100m²   \n",
              "1   Apartamento com 2 Quartos para Aluguel, 75m²   \n",
              "2   Apartamento com 3 Quartos para Aluguel, 93m²   \n",
              "3   Apartamento com 2 Quartos para Aluguel, 79m²   \n",
              "4   Apartamento com 3 Quartos para Aluguel, 78m²   \n",
              "\n",
              "                                Endereco   Area  Quartos  Banheiros  Vagas  \\\n",
              "0   Avenida Lineu de Paula Machado, 826   100.0        3          2      1   \n",
              "1                          Rua Faro, 51    75.0        2          3      1   \n",
              "2                              Rua Peri    93.0        3          2      1   \n",
              "3                   Rua Pio Correia, 92    79.0        2          2      1   \n",
              "4                       Rua Von Martius    78.0        3          2      0   \n",
              "\n",
              "    Preco  Condomínio  Valor Total   Valor M2  \n",
              "0  3900.0      1424.0       5324.0  53.240000  \n",
              "1  4000.0      1188.0       5188.0  69.173333  \n",
              "2  4500.0      1216.0       5716.0  61.462366  \n",
              "3  2800.0      1536.0       4336.0  54.886076  \n",
              "4  2500.0       953.0       3453.0  44.269231  "
            ],
            "text/html": [
              "\n",
              "  <div id=\"df-4238ae0e-0b00-4e20-94fd-64b28d213b66\">\n",
              "    <div class=\"colab-df-container\">\n",
              "      <div>\n",
              "<style scoped>\n",
              "    .dataframe tbody tr th:only-of-type {\n",
              "        vertical-align: middle;\n",
              "    }\n",
              "\n",
              "    .dataframe tbody tr th {\n",
              "        vertical-align: top;\n",
              "    }\n",
              "\n",
              "    .dataframe thead th {\n",
              "        text-align: right;\n",
              "    }\n",
              "</style>\n",
              "<table border=\"1\" class=\"dataframe\">\n",
              "  <thead>\n",
              "    <tr style=\"text-align: right;\">\n",
              "      <th></th>\n",
              "      <th>Titulo</th>\n",
              "      <th>Endereco</th>\n",
              "      <th>Area</th>\n",
              "      <th>Quartos</th>\n",
              "      <th>Banheiros</th>\n",
              "      <th>Vagas</th>\n",
              "      <th>Preco</th>\n",
              "      <th>Condomínio</th>\n",
              "      <th>Valor Total</th>\n",
              "      <th>Valor M2</th>\n",
              "    </tr>\n",
              "  </thead>\n",
              "  <tbody>\n",
              "    <tr>\n",
              "      <th>0</th>\n",
              "      <td>Apartamento com 3 Quartos para Aluguel, 100m²</td>\n",
              "      <td>Avenida Lineu de Paula Machado, 826</td>\n",
              "      <td>100.0</td>\n",
              "      <td>3</td>\n",
              "      <td>2</td>\n",
              "      <td>1</td>\n",
              "      <td>3900.0</td>\n",
              "      <td>1424.0</td>\n",
              "      <td>5324.0</td>\n",
              "      <td>53.240000</td>\n",
              "    </tr>\n",
              "    <tr>\n",
              "      <th>1</th>\n",
              "      <td>Apartamento com 2 Quartos para Aluguel, 75m²</td>\n",
              "      <td>Rua Faro, 51</td>\n",
              "      <td>75.0</td>\n",
              "      <td>2</td>\n",
              "      <td>3</td>\n",
              "      <td>1</td>\n",
              "      <td>4000.0</td>\n",
              "      <td>1188.0</td>\n",
              "      <td>5188.0</td>\n",
              "      <td>69.173333</td>\n",
              "    </tr>\n",
              "    <tr>\n",
              "      <th>2</th>\n",
              "      <td>Apartamento com 3 Quartos para Aluguel, 93m²</td>\n",
              "      <td>Rua Peri</td>\n",
              "      <td>93.0</td>\n",
              "      <td>3</td>\n",
              "      <td>2</td>\n",
              "      <td>1</td>\n",
              "      <td>4500.0</td>\n",
              "      <td>1216.0</td>\n",
              "      <td>5716.0</td>\n",
              "      <td>61.462366</td>\n",
              "    </tr>\n",
              "    <tr>\n",
              "      <th>3</th>\n",
              "      <td>Apartamento com 2 Quartos para Aluguel, 79m²</td>\n",
              "      <td>Rua Pio Correia, 92</td>\n",
              "      <td>79.0</td>\n",
              "      <td>2</td>\n",
              "      <td>2</td>\n",
              "      <td>1</td>\n",
              "      <td>2800.0</td>\n",
              "      <td>1536.0</td>\n",
              "      <td>4336.0</td>\n",
              "      <td>54.886076</td>\n",
              "    </tr>\n",
              "    <tr>\n",
              "      <th>4</th>\n",
              "      <td>Apartamento com 3 Quartos para Aluguel, 78m²</td>\n",
              "      <td>Rua Von Martius</td>\n",
              "      <td>78.0</td>\n",
              "      <td>3</td>\n",
              "      <td>2</td>\n",
              "      <td>0</td>\n",
              "      <td>2500.0</td>\n",
              "      <td>953.0</td>\n",
              "      <td>3453.0</td>\n",
              "      <td>44.269231</td>\n",
              "    </tr>\n",
              "  </tbody>\n",
              "</table>\n",
              "</div>\n",
              "      <button class=\"colab-df-convert\" onclick=\"convertToInteractive('df-4238ae0e-0b00-4e20-94fd-64b28d213b66')\"\n",
              "              title=\"Convert this dataframe to an interactive table.\"\n",
              "              style=\"display:none;\">\n",
              "        \n",
              "  <svg xmlns=\"http://www.w3.org/2000/svg\" height=\"24px\"viewBox=\"0 0 24 24\"\n",
              "       width=\"24px\">\n",
              "    <path d=\"M0 0h24v24H0V0z\" fill=\"none\"/>\n",
              "    <path d=\"M18.56 5.44l.94 2.06.94-2.06 2.06-.94-2.06-.94-.94-2.06-.94 2.06-2.06.94zm-11 1L8.5 8.5l.94-2.06 2.06-.94-2.06-.94L8.5 2.5l-.94 2.06-2.06.94zm10 10l.94 2.06.94-2.06 2.06-.94-2.06-.94-.94-2.06-.94 2.06-2.06.94z\"/><path d=\"M17.41 7.96l-1.37-1.37c-.4-.4-.92-.59-1.43-.59-.52 0-1.04.2-1.43.59L10.3 9.45l-7.72 7.72c-.78.78-.78 2.05 0 2.83L4 21.41c.39.39.9.59 1.41.59.51 0 1.02-.2 1.41-.59l7.78-7.78 2.81-2.81c.8-.78.8-2.07 0-2.86zM5.41 20L4 18.59l7.72-7.72 1.47 1.35L5.41 20z\"/>\n",
              "  </svg>\n",
              "      </button>\n",
              "      \n",
              "  <style>\n",
              "    .colab-df-container {\n",
              "      display:flex;\n",
              "      flex-wrap:wrap;\n",
              "      gap: 12px;\n",
              "    }\n",
              "\n",
              "    .colab-df-convert {\n",
              "      background-color: #E8F0FE;\n",
              "      border: none;\n",
              "      border-radius: 50%;\n",
              "      cursor: pointer;\n",
              "      display: none;\n",
              "      fill: #1967D2;\n",
              "      height: 32px;\n",
              "      padding: 0 0 0 0;\n",
              "      width: 32px;\n",
              "    }\n",
              "\n",
              "    .colab-df-convert:hover {\n",
              "      background-color: #E2EBFA;\n",
              "      box-shadow: 0px 1px 2px rgba(60, 64, 67, 0.3), 0px 1px 3px 1px rgba(60, 64, 67, 0.15);\n",
              "      fill: #174EA6;\n",
              "    }\n",
              "\n",
              "    [theme=dark] .colab-df-convert {\n",
              "      background-color: #3B4455;\n",
              "      fill: #D2E3FC;\n",
              "    }\n",
              "\n",
              "    [theme=dark] .colab-df-convert:hover {\n",
              "      background-color: #434B5C;\n",
              "      box-shadow: 0px 1px 3px 1px rgba(0, 0, 0, 0.15);\n",
              "      filter: drop-shadow(0px 1px 2px rgba(0, 0, 0, 0.3));\n",
              "      fill: #FFFFFF;\n",
              "    }\n",
              "  </style>\n",
              "\n",
              "      <script>\n",
              "        const buttonEl =\n",
              "          document.querySelector('#df-4238ae0e-0b00-4e20-94fd-64b28d213b66 button.colab-df-convert');\n",
              "        buttonEl.style.display =\n",
              "          google.colab.kernel.accessAllowed ? 'block' : 'none';\n",
              "\n",
              "        async function convertToInteractive(key) {\n",
              "          const element = document.querySelector('#df-4238ae0e-0b00-4e20-94fd-64b28d213b66');\n",
              "          const dataTable =\n",
              "            await google.colab.kernel.invokeFunction('convertToInteractive',\n",
              "                                                     [key], {});\n",
              "          if (!dataTable) return;\n",
              "\n",
              "          const docLinkHtml = 'Like what you see? Visit the ' +\n",
              "            '<a target=\"_blank\" href=https://colab.research.google.com/notebooks/data_table.ipynb>data table notebook</a>'\n",
              "            + ' to learn more about interactive tables.';\n",
              "          element.innerHTML = '';\n",
              "          dataTable['output_type'] = 'display_data';\n",
              "          await google.colab.output.renderOutput(dataTable, element);\n",
              "          const docLink = document.createElement('div');\n",
              "          docLink.innerHTML = docLinkHtml;\n",
              "          element.appendChild(docLink);\n",
              "        }\n",
              "      </script>\n",
              "    </div>\n",
              "  </div>\n",
              "  "
            ]
          },
          "metadata": {},
          "execution_count": 138
        }
      ]
    },
    {
      "cell_type": "markdown",
      "source": [
        "### Analisando os Resultados"
      ],
      "metadata": {
        "id": "r1YGzPG32Wyr"
      }
    },
    {
      "cell_type": "code",
      "source": [
        "# Distribuição por boxplot do valor TOTAL\n",
        "\n",
        "fig, ax = plt.subplots(figsize=(10, 6))\n",
        "sns.boxplot(x= 'Valor Total', data= df, width= .65)\n",
        "ax.xaxis.grid(True)\n",
        "sns.despine(trim=False, left=True)"
      ],
      "metadata": {
        "colab": {
          "base_uri": "https://localhost:8080/",
          "height": 388
        },
        "id": "AbmB2gg9EdCN",
        "outputId": "33ceda0d-0810-4cfa-9f98-55985b1c5cf0"
      },
      "execution_count": null,
      "outputs": [
        {
          "output_type": "display_data",
          "data": {
            "text/plain": [
              "<Figure size 720x432 with 1 Axes>"
            ],
            "image/png": "[encoded data removed]"
          },
          "metadata": {
            "needs_background": "light"
          }
        }
      ]
    },
    {
      "cell_type": "code",
      "source": [
        "# Distribuição por boxplot do valor do ALUGUEL\n",
        "\n",
        "fig, ax = plt.subplots(figsize=(10, 6))\n",
        "sns.boxplot(x= 'Preco', data= df, width= .65)\n",
        "ax.xaxis.grid(True)\n",
        "sns.despine(trim=False, left=True)"
      ],
      "metadata": {
        "colab": {
          "base_uri": "https://localhost:8080/",
          "height": 388
        },
        "id": "8GiTRXZTTm2Q",
        "outputId": "760a7161-f20b-4305-becf-73dfdfac86ad"
      },
      "execution_count": null,
      "outputs": [
        {
          "output_type": "display_data",
          "data": {
            "text/plain": [
              "<Figure size 720x432 with 1 Axes>"
            ],
            "image/png": "[encoded data removed]"
          },
          "metadata": {
            "needs_background": "light"
          }
        }
      ]
    },
    {
      "cell_type": "code",
      "source": [
        "# Distribuição por boxplot do valor do CONDO\n",
        "\n",
        "fig, ax = plt.subplots(figsize=(10, 6))\n",
        "sns.boxplot(x= 'Condomínio', data= df, width= .65)\n",
        "ax.xaxis.grid(True)\n",
        "sns.despine(trim=False, left=True)"
      ],
      "metadata": {
        "colab": {
          "base_uri": "https://localhost:8080/",
          "height": 388
        },
        "id": "-L8rT7O6TyPn",
        "outputId": "af0144cd-fc18-403f-9aa6-6ab425128902"
      },
      "execution_count": null,
      "outputs": [
        {
          "output_type": "display_data",
          "data": {
            "text/plain": [
              "<Figure size 720x432 with 1 Axes>"
            ],
            "image/png": "[encoded data removed]"
          },
          "metadata": {
            "needs_background": "light"
          }
        }
      ]
    },
    {
      "cell_type": "markdown",
      "source": [
        "###Comparativo"
      ],
      "metadata": {
        "id": "gcH6tsuKVb-S"
      }
    },
    {
      "cell_type": "code",
      "source": [
        "# Plotando boxplots para avaliar distribuição por quartos TOTAL\n",
        "\n",
        "fig, ax = plt.subplots(figsize=(10, 6))\n",
        "sns.boxplot(x= 'Quartos', y= 'Valor Total', data= df, width= .65, palette='vlag')\n",
        "ax.xaxis.grid(True)\n",
        "sns.despine(trim=False, left=True)\n"
      ],
      "metadata": {
        "colab": {
          "base_uri": "https://localhost:8080/",
          "height": 388
        },
        "id": "EYWWa_p12ZUw",
        "outputId": "71c7189b-347a-470f-b069-be6229afef92"
      },
      "execution_count": null,
      "outputs": [
        {
          "output_type": "display_data",
          "data": {
            "text/plain": [
              "<Figure size 720x432 with 1 Axes>"
            ],
            "image/png": "[encoded data removed]"
          },
          "metadata": {
            "needs_background": "light"
          }
        }
      ]
    },
    {
      "cell_type": "code",
      "source": [
        "# Plotando boxplots para avaliar distribuição por quartos ALUGUEL\n",
        "\n",
        "fig, ax = plt.subplots(figsize=(10, 6))\n",
        "sns.boxplot(x= 'Quartos', y= 'Preco', data= df, width= .65, palette='vlag')\n",
        "ax.xaxis.grid(True)\n",
        "sns.despine(trim=False, left=True)"
      ],
      "metadata": {
        "colab": {
          "base_uri": "https://localhost:8080/",
          "height": 388
        },
        "id": "cLJ8IM1-UE0U",
        "outputId": "5cc2c19c-ebe0-4345-f2bc-8deddee4f8b6"
      },
      "execution_count": null,
      "outputs": [
        {
          "output_type": "display_data",
          "data": {
            "text/plain": [
              "<Figure size 720x432 with 1 Axes>"
            ],
            "image/png": "[encoded data removed]"
          },
          "metadata": {
            "needs_background": "light"
          }
        }
      ]
    },
    {
      "cell_type": "code",
      "source": [
        "# Plotando boxplots para avaliar distribuição por quartos CONDO\n",
        "\n",
        "fig, ax = plt.subplots(figsize=(10, 6))\n",
        "sns.boxplot(x= 'Quartos', y= 'Condomínio', data= df, width= .65, palette='vlag')\n",
        "ax.xaxis.grid(True)\n",
        "sns.despine(trim=False, left=True)"
      ],
      "metadata": {
        "colab": {
          "base_uri": "https://localhost:8080/",
          "height": 388
        },
        "id": "G2cwogZ3ULEk",
        "outputId": "7dcdf02f-1374-45af-cbb9-6d294d9cd4e6"
      },
      "execution_count": null,
      "outputs": [
        {
          "output_type": "display_data",
          "data": {
            "text/plain": [
              "<Figure size 720x432 with 1 Axes>"
            ],
            "image/png": "[encoded data removed]"
          },
          "metadata": {
            "needs_background": "light"
          }
        }
      ]
    },
    {
      "cell_type": "markdown",
      "source": [
        "### Apartamentos com 2 dormitórios"
      ],
      "metadata": {
        "id": "o65wX7ZAU_s8"
      }
    },
    {
      "cell_type": "code",
      "source": [
        "y = [df[df['Quartos'] == 2]]\n",
        "df2 = pd.DataFrame(y[0])\n",
        "\n",
        "df2"
      ],
      "metadata": {
        "id": "_N3Y7oauJLzw"
      },
      "execution_count": null,
      "outputs": []
    },
    {
      "cell_type": "code",
      "source": [
        "#Segmentado por quantidade de quartos 2 TOTAL\n",
        "\n",
        "fig, ax = plt.subplots(figsize=(10, 6))\n",
        "sns.boxplot(x= 'Valor Total', data= df2, width= .65)\n",
        "ax.xaxis.grid(True)\n",
        "sns.despine(trim=False, left=True)"
      ],
      "metadata": {
        "colab": {
          "base_uri": "https://localhost:8080/",
          "height": 388
        },
        "id": "Yza3peCFGRXv",
        "outputId": "1464ac6e-0eeb-4664-ca0d-8a07e1bf4b5c"
      },
      "execution_count": null,
      "outputs": [
        {
          "output_type": "display_data",
          "data": {
            "text/plain": [
              "<Figure size 720x432 with 1 Axes>"
            ],
            "image/png": "[encoded data removed]"
          },
          "metadata": {
            "needs_background": "light"
          }
        }
      ]
    },
    {
      "cell_type": "code",
      "source": [
        "print(f\" A média de valores para 2 quartos é: {df2['Valor Total'].mean()}\")\n",
        "print(f\" A mediana de valores para 2 quartos é: {df2['Valor Total'].median()}\")\n",
        "print(f\" O Valor máximo é: {df2['Valor Total'].max()}\")\n",
        "print(f\" O Valor mínimo é: {df2['Valor Total'].min()}\\n\")\n",
        "\n",
        "print(f\" O total de imóveis com 2 quartos é: {len(df2['Valor Total'])}\")"
      ],
      "metadata": {
        "colab": {
          "base_uri": "https://localhost:8080/"
        },
        "id": "mgT15WQFRGPC",
        "outputId": "f4222f5f-dffa-405f-a8b2-1c20c7286509"
      },
      "execution_count": null,
      "outputs": [
        {
          "output_type": "stream",
          "name": "stdout",
          "text": [
            " A média de valores para 2 quartos é: 4317.75\n",
            " A mediana de valores para 2 quartos é: 4218.0\n",
            " O Valor máximo é: 5188.0\n",
            " O Valor mínimo é: 3459.0\n",
            "\n",
            " O total de imóveis com 2 quartos é: 24\n"
          ]
        }
      ]
    },
    {
      "cell_type": "code",
      "source": [
        "#Segmentado por quantidade de quartos 2 ALUGUEL\n",
        "\n",
        "fig, ax = plt.subplots(figsize=(10, 6))\n",
        "sns.boxplot(x= 'Preco', data= df2, width= .65)\n",
        "ax.xaxis.grid(True)\n",
        "sns.despine(trim=False, left=True)"
      ],
      "metadata": {
        "colab": {
          "base_uri": "https://localhost:8080/",
          "height": 388
        },
        "id": "ZBlxfOTbUhtv",
        "outputId": "7a67f1ee-6945-4fe6-aefb-48b7ebba07dc"
      },
      "execution_count": null,
      "outputs": [
        {
          "output_type": "display_data",
          "data": {
            "text/plain": [
              "<Figure size 720x432 with 1 Axes>"
            ],
            "image/png": "[encoded data removed]"
          },
          "metadata": {
            "needs_background": "light"
          }
        }
      ]
    },
    {
      "cell_type": "code",
      "source": [
        "#Segmentado por quantidade de quartos 2 CONDO\n",
        "\n",
        "fig, ax = plt.subplots(figsize=(10, 6))\n",
        "sns.boxplot(x= 'Condomínio', data= df2, width= .65)\n",
        "ax.xaxis.grid(True)\n",
        "sns.despine(trim=False, left=True)"
      ],
      "metadata": {
        "colab": {
          "base_uri": "https://localhost:8080/",
          "height": 388
        },
        "id": "c7Uz7I-wUqmu",
        "outputId": "81b61c89-1f4f-4062-ef4a-2bd9a4457768"
      },
      "execution_count": null,
      "outputs": [
        {
          "output_type": "display_data",
          "data": {
            "text/plain": [
              "<Figure size 720x432 with 1 Axes>"
            ],
            "image/png": "[encoded data removed]"
          },
          "metadata": {
            "needs_background": "light"
          }
        }
      ]
    },
    {
      "cell_type": "code",
      "source": [
        "print(f\" A média de Aluguel para 2 quartos é: {df2['Preco'].mean()}\")\n",
        "print(f\" A mediana de Aluguel para 2 quartos é: {df2['Preco'].median()}\")\n",
        "print(f\" O Valor máximo é: {df2['Preco'].max()}\")\n",
        "print(f\" O Valor mínimo é: {df2['Preco'].min()}\\n\")\n",
        "\n",
        "print(f\" A média de Condomínio para 2 quartos é: {df2['Condomínio'].mean()}\")\n",
        "print(f\" A mediana de Condomínio para 2 quartos é: {df2['Condomínio'].median()}\")\n",
        "print(f\" O Valor máximo é: {df2['Condomínio'].max()}\")\n",
        "print(f\" O Valor mínimo é: {df2['Condomínio'].min()}\\n\")"
      ],
      "metadata": {
        "colab": {
          "base_uri": "https://localhost:8080/"
        },
        "id": "8_v3YsbqWorV",
        "outputId": "1dd5d7ef-66e7-4b2e-81b4-10b792d9229f"
      },
      "execution_count": null,
      "outputs": [
        {
          "output_type": "stream",
          "name": "stdout",
          "text": [
            " A média de Aluguel para 2 quartos é: 3387.5\n",
            " A mediana de Aluguel para 2 quartos é: 3250.0\n",
            " O Valor máximo é: 4300.0\n",
            " O Valor mínimo é: 2500.0\n",
            "\n",
            " A média de Condomínio para 2 quartos é: 930.25\n",
            " A mediana de Condomínio para 2 quartos é: 966.0\n",
            " O Valor máximo é: 1536.0\n",
            " O Valor mínimo é: 459.0\n",
            "\n"
          ]
        }
      ]
    },
    {
      "cell_type": "markdown",
      "source": [
        "### Apartamentos com 3 dormitórios"
      ],
      "metadata": {
        "id": "hj-iwG6zU5FF"
      }
    },
    {
      "cell_type": "code",
      "source": [
        "y = [df[df['Quartos'] == 3]]\n",
        "df3 = pd.DataFrame(y[0])\n",
        "\n",
        "df3"
      ],
      "metadata": {
        "id": "OTfbVRBSQRs9"
      },
      "execution_count": null,
      "outputs": []
    },
    {
      "cell_type": "code",
      "source": [
        "#Segmentado por quantidade de quartos 3\n",
        "\n",
        "fig, ax = plt.subplots(figsize=(10, 6))\n",
        "sns.boxplot(x= 'Valor Total', data= df3, width= .65)\n",
        "ax.xaxis.grid(True)\n",
        "sns.despine(trim=False, left=True)"
      ],
      "metadata": {
        "colab": {
          "base_uri": "https://localhost:8080/",
          "height": 388
        },
        "id": "X-0wIBYHQXf2",
        "outputId": "f21cf4ae-f1fa-4373-ff08-af463a253a46"
      },
      "execution_count": null,
      "outputs": [
        {
          "output_type": "display_data",
          "data": {
            "text/plain": [
              "<Figure size 720x432 with 1 Axes>"
            ],
            "image/png": "[encoded data removed]"
          },
          "metadata": {
            "needs_background": "light"
          }
        }
      ]
    },
    {
      "cell_type": "code",
      "source": [
        "print(f\" A média de valores para 3 quartos é: {df3['Valor Total'].mean()}\")\n",
        "print(f\" A mediana de valores para 3 quartos é: {df3['Valor Total'].median()}\")\n",
        "print(f\" O Valor máximo é: {df3['Valor Total'].max()}\")\n",
        "print(f\" O Valor mínimo é: {df3['Valor Total'].min()}\\n\")\n",
        "\n",
        "print(f\" O total de imóveis com 3 quartos é: {len(df3['Valor Total'])}\")"
      ],
      "metadata": {
        "colab": {
          "base_uri": "https://localhost:8080/"
        },
        "id": "H5MqquT9RriB",
        "outputId": "9a466cb7-0c40-44a0-fc7e-bb117e0442ac"
      },
      "execution_count": null,
      "outputs": [
        {
          "output_type": "stream",
          "name": "stdout",
          "text": [
            " A média de valores para 3 quartos é: 6731.523809523809\n",
            " A mediana de valores para 3 quartos é: 5716.0\n",
            " O Valor máximo é: 15300.0\n",
            " O Valor mínimo é: 3453.0\n",
            "\n",
            " O total de imóveis com 3 quartos é: 63\n"
          ]
        }
      ]
    },
    {
      "cell_type": "code",
      "source": [
        "print(f\" A média de Aluguel para 3 quartos é: {df3['Preco'].mean()}\")\n",
        "print(f\" A mediana de Aluguel para 3 quartos é: {df3['Preco'].median()}\")\n",
        "print(f\" O Valor máximo é: {df3['Preco'].max()}\")\n",
        "print(f\" O Valor mínimo é: {df3['Preco'].min()}\\n\")\n",
        "\n",
        "print(f\" A média de Condomínio para 3 quartos é: {df3['Condomínio'].mean()}\")\n",
        "print(f\" A mediana de Condomínio para 3 quartos é: {df3['Condomínio'].median()}\")\n",
        "print(f\" O Valor máximo é: {df3['Condomínio'].max()}\")\n",
        "print(f\" O Valor mínimo é: {df3['Condomínio'].min()}\\n\")"
      ],
      "metadata": {
        "colab": {
          "base_uri": "https://localhost:8080/"
        },
        "id": "pA-hnm8sTb4X",
        "outputId": "4724fa61-9c7f-4079-bee8-3434e7c93949"
      },
      "execution_count": null,
      "outputs": [
        {
          "output_type": "stream",
          "name": "stdout",
          "text": [
            " A média de Aluguel para 3 quartos é: 5398.412698412699\n",
            " A mediana de Aluguel para 3 quartos é: 4500.0\n",
            " O Valor máximo é: 13000.0\n",
            " O Valor mínimo é: 2500.0\n",
            "\n",
            " A média de Condomínio para 3 quartos é: 1333.111111111111\n",
            " A mediana de Condomínio para 3 quartos é: 1250.0\n",
            " O Valor máximo é: 2300.0\n",
            " O Valor mínimo é: 600.0\n",
            "\n"
          ]
        }
      ]
    }
  ]
}